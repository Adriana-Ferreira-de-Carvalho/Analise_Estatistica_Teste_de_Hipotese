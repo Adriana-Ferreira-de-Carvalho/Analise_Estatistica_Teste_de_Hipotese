{
  "nbformat": 4,
  "nbformat_minor": 0,
  "metadata": {
    "colab": {
      "provenance": []
    },
    "kernelspec": {
      "name": "python3",
      "display_name": "Python 3"
    },
    "language_info": {
      "name": "python"
    }
  },
  "cells": [
    {
      "cell_type": "markdown",
      "source": [
        "# Estatística - \"Testes de Hipóteses\""
      ],
      "metadata": {
        "id": "mhHR5S4UT6fM"
      }
    },
    {
      "cell_type": "markdown",
      "source": [
        "Bibliotecas:"
      ],
      "metadata": {
        "id": "-NafqB55UG3Z"
      }
    },
    {
      "cell_type": "code",
      "execution_count": 152,
      "metadata": {
        "id": "Tn2RrZtKoVjS"
      },
      "outputs": [],
      "source": [
        "# Bibliotecas-base\n",
        "import pandas as pd\n",
        "import numpy as np\n",
        "\n",
        "# Bibliotecas para visualização de dados\n",
        "import seaborn as sns\n",
        "import matplotlib as plt\n",
        "import matplotlib.pyplot as plt\n",
        "\n",
        "# Biblioteca para estatística\n",
        "import scipy.stats as stat\n",
        "from scipy.stats import norm\n",
        "from scipy.stats import f_oneway\n",
        "from scipy.stats import chi2_contingency\n",
        "from scipy.stats import kstest, norm"
      ]
    },
    {
      "cell_type": "code",
      "source": [
        "import warnings as ws\n",
        "ws.filterwarnings('ignore')"
      ],
      "metadata": {
        "id": "YHwz7MhJw9jJ"
      },
      "execution_count": 153,
      "outputs": []
    },
    {
      "cell_type": "code",
      "metadata": {
        "id": "0e51b8c6"
      },
      "source": [
        "!pip freeze > requirements.txt"
      ],
      "execution_count": 154,
      "outputs": []
    },
    {
      "cell_type": "markdown",
      "source": [
        "#### Parte I - \"Teste A/B\""
      ],
      "metadata": {
        "id": "b0L4L8hwUDj2"
      }
    },
    {
      "cell_type": "markdown",
      "source": [
        "Importando o dataset `experimento_teste_ab.csv`:"
      ],
      "metadata": {
        "id": "-YBtbbeKS4M0"
      }
    },
    {
      "cell_type": "code",
      "source": [
        "teste_ab = pd.read_csv('/content/drive/MyDrive/Exercício/experimento_teste_ab.csv')"
      ],
      "metadata": {
        "id": "nXYMv0MEpvXF"
      },
      "execution_count": 155,
      "outputs": []
    },
    {
      "cell_type": "markdown",
      "source": [
        "Conhecendo a base de dados:"
      ],
      "metadata": {
        "id": "gRkdfkytU4ZT"
      }
    },
    {
      "cell_type": "code",
      "source": [
        "teste_ab.shape"
      ],
      "metadata": {
        "colab": {
          "base_uri": "https://localhost:8080/"
        },
        "id": "g_9opg0WcWyA",
        "outputId": "a52802b5-6654-4373-a5ca-5117f03244c0"
      },
      "execution_count": 156,
      "outputs": [
        {
          "output_type": "execute_result",
          "data": {
            "text/plain": [
              "(2000, 4)"
            ]
          },
          "metadata": {},
          "execution_count": 156
        }
      ]
    },
    {
      "cell_type": "code",
      "source": [
        "teste_ab.head()"
      ],
      "metadata": {
        "colab": {
          "base_uri": "https://localhost:8080/",
          "height": 206
        },
        "id": "fYDC7vR6VA9y",
        "outputId": "5f1498d3-cda2-421d-bd25-3431bb3fc8f0"
      },
      "execution_count": 157,
      "outputs": [
        {
          "output_type": "execute_result",
          "data": {
            "text/plain": [
              "   Visitante_ID Versão_Página  Visualizações  Conversões\n",
              "0             1             A            167           1\n",
              "1             2             A            160           0\n",
              "2             3             A            170           0\n",
              "3             4             A            161           1\n",
              "4             5             A            104           0"
            ],
            "text/html": [
              "\n",
              "  <div id=\"df-f7105a89-1462-4442-9b67-af42de551ace\" class=\"colab-df-container\">\n",
              "    <div>\n",
              "<style scoped>\n",
              "    .dataframe tbody tr th:only-of-type {\n",
              "        vertical-align: middle;\n",
              "    }\n",
              "\n",
              "    .dataframe tbody tr th {\n",
              "        vertical-align: top;\n",
              "    }\n",
              "\n",
              "    .dataframe thead th {\n",
              "        text-align: right;\n",
              "    }\n",
              "</style>\n",
              "<table border=\"1\" class=\"dataframe\">\n",
              "  <thead>\n",
              "    <tr style=\"text-align: right;\">\n",
              "      <th></th>\n",
              "      <th>Visitante_ID</th>\n",
              "      <th>Versão_Página</th>\n",
              "      <th>Visualizações</th>\n",
              "      <th>Conversões</th>\n",
              "    </tr>\n",
              "  </thead>\n",
              "  <tbody>\n",
              "    <tr>\n",
              "      <th>0</th>\n",
              "      <td>1</td>\n",
              "      <td>A</td>\n",
              "      <td>167</td>\n",
              "      <td>1</td>\n",
              "    </tr>\n",
              "    <tr>\n",
              "      <th>1</th>\n",
              "      <td>2</td>\n",
              "      <td>A</td>\n",
              "      <td>160</td>\n",
              "      <td>0</td>\n",
              "    </tr>\n",
              "    <tr>\n",
              "      <th>2</th>\n",
              "      <td>3</td>\n",
              "      <td>A</td>\n",
              "      <td>170</td>\n",
              "      <td>0</td>\n",
              "    </tr>\n",
              "    <tr>\n",
              "      <th>3</th>\n",
              "      <td>4</td>\n",
              "      <td>A</td>\n",
              "      <td>161</td>\n",
              "      <td>1</td>\n",
              "    </tr>\n",
              "    <tr>\n",
              "      <th>4</th>\n",
              "      <td>5</td>\n",
              "      <td>A</td>\n",
              "      <td>104</td>\n",
              "      <td>0</td>\n",
              "    </tr>\n",
              "  </tbody>\n",
              "</table>\n",
              "</div>\n",
              "    <div class=\"colab-df-buttons\">\n",
              "\n",
              "  <div class=\"colab-df-container\">\n",
              "    <button class=\"colab-df-convert\" onclick=\"convertToInteractive('df-f7105a89-1462-4442-9b67-af42de551ace')\"\n",
              "            title=\"Convert this dataframe to an interactive table.\"\n",
              "            style=\"display:none;\">\n",
              "\n",
              "  <svg xmlns=\"http://www.w3.org/2000/svg\" height=\"24px\" viewBox=\"0 -960 960 960\">\n",
              "    <path d=\"M120-120v-720h720v720H120Zm60-500h600v-160H180v160Zm220 220h160v-160H400v160Zm0 220h160v-160H400v160ZM180-400h160v-160H180v160Zm440 0h160v-160H620v160ZM180-180h160v-160H180v160Zm440 0h160v-160H620v160Z\"/>\n",
              "  </svg>\n",
              "    </button>\n",
              "\n",
              "  <style>\n",
              "    .colab-df-container {\n",
              "      display:flex;\n",
              "      gap: 12px;\n",
              "    }\n",
              "\n",
              "    .colab-df-convert {\n",
              "      background-color: #E8F0FE;\n",
              "      border: none;\n",
              "      border-radius: 50%;\n",
              "      cursor: pointer;\n",
              "      display: none;\n",
              "      fill: #1967D2;\n",
              "      height: 32px;\n",
              "      padding: 0 0 0 0;\n",
              "      width: 32px;\n",
              "    }\n",
              "\n",
              "    .colab-df-convert:hover {\n",
              "      background-color: #E2EBFA;\n",
              "      box-shadow: 0px 1px 2px rgba(60, 64, 67, 0.3), 0px 1px 3px 1px rgba(60, 64, 67, 0.15);\n",
              "      fill: #174EA6;\n",
              "    }\n",
              "\n",
              "    .colab-df-buttons div {\n",
              "      margin-bottom: 4px;\n",
              "    }\n",
              "\n",
              "    [theme=dark] .colab-df-convert {\n",
              "      background-color: #3B4455;\n",
              "      fill: #D2E3FC;\n",
              "    }\n",
              "\n",
              "    [theme=dark] .colab-df-convert:hover {\n",
              "      background-color: #434B5C;\n",
              "      box-shadow: 0px 1px 3px 1px rgba(0, 0, 0, 0.15);\n",
              "      filter: drop-shadow(0px 1px 2px rgba(0, 0, 0, 0.3));\n",
              "      fill: #FFFFFF;\n",
              "    }\n",
              "  </style>\n",
              "\n",
              "    <script>\n",
              "      const buttonEl =\n",
              "        document.querySelector('#df-f7105a89-1462-4442-9b67-af42de551ace button.colab-df-convert');\n",
              "      buttonEl.style.display =\n",
              "        google.colab.kernel.accessAllowed ? 'block' : 'none';\n",
              "\n",
              "      async function convertToInteractive(key) {\n",
              "        const element = document.querySelector('#df-f7105a89-1462-4442-9b67-af42de551ace');\n",
              "        const dataTable =\n",
              "          await google.colab.kernel.invokeFunction('convertToInteractive',\n",
              "                                                    [key], {});\n",
              "        if (!dataTable) return;\n",
              "\n",
              "        const docLinkHtml = 'Like what you see? Visit the ' +\n",
              "          '<a target=\"_blank\" href=https://colab.research.google.com/notebooks/data_table.ipynb>data table notebook</a>'\n",
              "          + ' to learn more about interactive tables.';\n",
              "        element.innerHTML = '';\n",
              "        dataTable['output_type'] = 'display_data';\n",
              "        await google.colab.output.renderOutput(dataTable, element);\n",
              "        const docLink = document.createElement('div');\n",
              "        docLink.innerHTML = docLinkHtml;\n",
              "        element.appendChild(docLink);\n",
              "      }\n",
              "    </script>\n",
              "  </div>\n",
              "\n",
              "\n",
              "    <div id=\"df-a1e418dc-1b1d-4f2b-a7bf-08df92724a59\">\n",
              "      <button class=\"colab-df-quickchart\" onclick=\"quickchart('df-a1e418dc-1b1d-4f2b-a7bf-08df92724a59')\"\n",
              "                title=\"Suggest charts\"\n",
              "                style=\"display:none;\">\n",
              "\n",
              "<svg xmlns=\"http://www.w3.org/2000/svg\" height=\"24px\"viewBox=\"0 0 24 24\"\n",
              "     width=\"24px\">\n",
              "    <g>\n",
              "        <path d=\"M19 3H5c-1.1 0-2 .9-2 2v14c0 1.1.9 2 2 2h14c1.1 0 2-.9 2-2V5c0-1.1-.9-2-2-2zM9 17H7v-7h2v7zm4 0h-2V7h2v10zm4 0h-2v-4h2v4z\"/>\n",
              "    </g>\n",
              "</svg>\n",
              "      </button>\n",
              "\n",
              "<style>\n",
              "  .colab-df-quickchart {\n",
              "      --bg-color: #E8F0FE;\n",
              "      --fill-color: #1967D2;\n",
              "      --hover-bg-color: #E2EBFA;\n",
              "      --hover-fill-color: #174EA6;\n",
              "      --disabled-fill-color: #AAA;\n",
              "      --disabled-bg-color: #DDD;\n",
              "  }\n",
              "\n",
              "  [theme=dark] .colab-df-quickchart {\n",
              "      --bg-color: #3B4455;\n",
              "      --fill-color: #D2E3FC;\n",
              "      --hover-bg-color: #434B5C;\n",
              "      --hover-fill-color: #FFFFFF;\n",
              "      --disabled-bg-color: #3B4455;\n",
              "      --disabled-fill-color: #666;\n",
              "  }\n",
              "\n",
              "  .colab-df-quickchart {\n",
              "    background-color: var(--bg-color);\n",
              "    border: none;\n",
              "    border-radius: 50%;\n",
              "    cursor: pointer;\n",
              "    display: none;\n",
              "    fill: var(--fill-color);\n",
              "    height: 32px;\n",
              "    padding: 0;\n",
              "    width: 32px;\n",
              "  }\n",
              "\n",
              "  .colab-df-quickchart:hover {\n",
              "    background-color: var(--hover-bg-color);\n",
              "    box-shadow: 0 1px 2px rgba(60, 64, 67, 0.3), 0 1px 3px 1px rgba(60, 64, 67, 0.15);\n",
              "    fill: var(--button-hover-fill-color);\n",
              "  }\n",
              "\n",
              "  .colab-df-quickchart-complete:disabled,\n",
              "  .colab-df-quickchart-complete:disabled:hover {\n",
              "    background-color: var(--disabled-bg-color);\n",
              "    fill: var(--disabled-fill-color);\n",
              "    box-shadow: none;\n",
              "  }\n",
              "\n",
              "  .colab-df-spinner {\n",
              "    border: 2px solid var(--fill-color);\n",
              "    border-color: transparent;\n",
              "    border-bottom-color: var(--fill-color);\n",
              "    animation:\n",
              "      spin 1s steps(1) infinite;\n",
              "  }\n",
              "\n",
              "  @keyframes spin {\n",
              "    0% {\n",
              "      border-color: transparent;\n",
              "      border-bottom-color: var(--fill-color);\n",
              "      border-left-color: var(--fill-color);\n",
              "    }\n",
              "    20% {\n",
              "      border-color: transparent;\n",
              "      border-left-color: var(--fill-color);\n",
              "      border-top-color: var(--fill-color);\n",
              "    }\n",
              "    30% {\n",
              "      border-color: transparent;\n",
              "      border-left-color: var(--fill-color);\n",
              "      border-top-color: var(--fill-color);\n",
              "      border-right-color: var(--fill-color);\n",
              "    }\n",
              "    40% {\n",
              "      border-color: transparent;\n",
              "      border-right-color: var(--fill-color);\n",
              "      border-top-color: var(--fill-color);\n",
              "    }\n",
              "    60% {\n",
              "      border-color: transparent;\n",
              "      border-right-color: var(--fill-color);\n",
              "    }\n",
              "    80% {\n",
              "      border-color: transparent;\n",
              "      border-right-color: var(--fill-color);\n",
              "      border-bottom-color: var(--fill-color);\n",
              "    }\n",
              "    90% {\n",
              "      border-color: transparent;\n",
              "      border-bottom-color: var(--fill-color);\n",
              "    }\n",
              "  }\n",
              "</style>\n",
              "\n",
              "      <script>\n",
              "        async function quickchart(key) {\n",
              "          const quickchartButtonEl =\n",
              "            document.querySelector('#' + key + ' button');\n",
              "          quickchartButtonEl.disabled = true;  // To prevent multiple clicks.\n",
              "          quickchartButtonEl.classList.add('colab-df-spinner');\n",
              "          try {\n",
              "            const charts = await google.colab.kernel.invokeFunction(\n",
              "                'suggestCharts', [key], {});\n",
              "          } catch (error) {\n",
              "            console.error('Error during call to suggestCharts:', error);\n",
              "          }\n",
              "          quickchartButtonEl.classList.remove('colab-df-spinner');\n",
              "          quickchartButtonEl.classList.add('colab-df-quickchart-complete');\n",
              "        }\n",
              "        (() => {\n",
              "          let quickchartButtonEl =\n",
              "            document.querySelector('#df-a1e418dc-1b1d-4f2b-a7bf-08df92724a59 button');\n",
              "          quickchartButtonEl.style.display =\n",
              "            google.colab.kernel.accessAllowed ? 'block' : 'none';\n",
              "        })();\n",
              "      </script>\n",
              "    </div>\n",
              "\n",
              "    </div>\n",
              "  </div>\n"
            ],
            "application/vnd.google.colaboratory.intrinsic+json": {
              "type": "dataframe",
              "variable_name": "teste_ab",
              "summary": "{\n  \"name\": \"teste_ab\",\n  \"rows\": 2000,\n  \"fields\": [\n    {\n      \"column\": \"Visitante_ID\",\n      \"properties\": {\n        \"dtype\": \"number\",\n        \"std\": 577,\n        \"min\": 1,\n        \"max\": 2000,\n        \"num_unique_values\": 2000,\n        \"samples\": [\n          1861,\n          354,\n          1334\n        ],\n        \"semantic_type\": \"\",\n        \"description\": \"\"\n      }\n    },\n    {\n      \"column\": \"Vers\\u00e3o_P\\u00e1gina\",\n      \"properties\": {\n        \"dtype\": \"category\",\n        \"num_unique_values\": 2,\n        \"samples\": [\n          \"B\",\n          \"A\"\n        ],\n        \"semantic_type\": \"\",\n        \"description\": \"\"\n      }\n    },\n    {\n      \"column\": \"Visualiza\\u00e7\\u00f5es\",\n      \"properties\": {\n        \"dtype\": \"number\",\n        \"std\": 28,\n        \"min\": 100,\n        \"max\": 199,\n        \"num_unique_values\": 100,\n        \"samples\": [\n          192,\n          107\n        ],\n        \"semantic_type\": \"\",\n        \"description\": \"\"\n      }\n    },\n    {\n      \"column\": \"Convers\\u00f5es\",\n      \"properties\": {\n        \"dtype\": \"number\",\n        \"std\": 0,\n        \"min\": 0,\n        \"max\": 1,\n        \"num_unique_values\": 2,\n        \"samples\": [\n          0,\n          1\n        ],\n        \"semantic_type\": \"\",\n        \"description\": \"\"\n      }\n    }\n  ]\n}"
            }
          },
          "metadata": {},
          "execution_count": 157
        }
      ]
    },
    {
      "cell_type": "code",
      "source": [
        "teste_ab.describe()"
      ],
      "metadata": {
        "colab": {
          "base_uri": "https://localhost:8080/",
          "height": 300
        },
        "id": "r-LYGlyzVZf_",
        "outputId": "0ce276b2-cb96-4c97-9294-5805f75c90d2"
      },
      "execution_count": 158,
      "outputs": [
        {
          "output_type": "execute_result",
          "data": {
            "text/plain": [
              "       Visitante_ID  Visualizações   Conversões\n",
              "count   2000.000000    2000.000000  2000.000000\n",
              "mean    1000.500000     150.755500     0.115000\n",
              "std      577.494589      28.809421     0.319102\n",
              "min        1.000000     100.000000     0.000000\n",
              "25%      500.750000     126.000000     0.000000\n",
              "50%     1000.500000     151.000000     0.000000\n",
              "75%     1500.250000     175.000000     0.000000\n",
              "max     2000.000000     199.000000     1.000000"
            ],
            "text/html": [
              "\n",
              "  <div id=\"df-29e86f78-71cf-4551-b98a-90178f87a3cf\" class=\"colab-df-container\">\n",
              "    <div>\n",
              "<style scoped>\n",
              "    .dataframe tbody tr th:only-of-type {\n",
              "        vertical-align: middle;\n",
              "    }\n",
              "\n",
              "    .dataframe tbody tr th {\n",
              "        vertical-align: top;\n",
              "    }\n",
              "\n",
              "    .dataframe thead th {\n",
              "        text-align: right;\n",
              "    }\n",
              "</style>\n",
              "<table border=\"1\" class=\"dataframe\">\n",
              "  <thead>\n",
              "    <tr style=\"text-align: right;\">\n",
              "      <th></th>\n",
              "      <th>Visitante_ID</th>\n",
              "      <th>Visualizações</th>\n",
              "      <th>Conversões</th>\n",
              "    </tr>\n",
              "  </thead>\n",
              "  <tbody>\n",
              "    <tr>\n",
              "      <th>count</th>\n",
              "      <td>2000.000000</td>\n",
              "      <td>2000.000000</td>\n",
              "      <td>2000.000000</td>\n",
              "    </tr>\n",
              "    <tr>\n",
              "      <th>mean</th>\n",
              "      <td>1000.500000</td>\n",
              "      <td>150.755500</td>\n",
              "      <td>0.115000</td>\n",
              "    </tr>\n",
              "    <tr>\n",
              "      <th>std</th>\n",
              "      <td>577.494589</td>\n",
              "      <td>28.809421</td>\n",
              "      <td>0.319102</td>\n",
              "    </tr>\n",
              "    <tr>\n",
              "      <th>min</th>\n",
              "      <td>1.000000</td>\n",
              "      <td>100.000000</td>\n",
              "      <td>0.000000</td>\n",
              "    </tr>\n",
              "    <tr>\n",
              "      <th>25%</th>\n",
              "      <td>500.750000</td>\n",
              "      <td>126.000000</td>\n",
              "      <td>0.000000</td>\n",
              "    </tr>\n",
              "    <tr>\n",
              "      <th>50%</th>\n",
              "      <td>1000.500000</td>\n",
              "      <td>151.000000</td>\n",
              "      <td>0.000000</td>\n",
              "    </tr>\n",
              "    <tr>\n",
              "      <th>75%</th>\n",
              "      <td>1500.250000</td>\n",
              "      <td>175.000000</td>\n",
              "      <td>0.000000</td>\n",
              "    </tr>\n",
              "    <tr>\n",
              "      <th>max</th>\n",
              "      <td>2000.000000</td>\n",
              "      <td>199.000000</td>\n",
              "      <td>1.000000</td>\n",
              "    </tr>\n",
              "  </tbody>\n",
              "</table>\n",
              "</div>\n",
              "    <div class=\"colab-df-buttons\">\n",
              "\n",
              "  <div class=\"colab-df-container\">\n",
              "    <button class=\"colab-df-convert\" onclick=\"convertToInteractive('df-29e86f78-71cf-4551-b98a-90178f87a3cf')\"\n",
              "            title=\"Convert this dataframe to an interactive table.\"\n",
              "            style=\"display:none;\">\n",
              "\n",
              "  <svg xmlns=\"http://www.w3.org/2000/svg\" height=\"24px\" viewBox=\"0 -960 960 960\">\n",
              "    <path d=\"M120-120v-720h720v720H120Zm60-500h600v-160H180v160Zm220 220h160v-160H400v160Zm0 220h160v-160H400v160ZM180-400h160v-160H180v160Zm440 0h160v-160H620v160ZM180-180h160v-160H180v160Zm440 0h160v-160H620v160Z\"/>\n",
              "  </svg>\n",
              "    </button>\n",
              "\n",
              "  <style>\n",
              "    .colab-df-container {\n",
              "      display:flex;\n",
              "      gap: 12px;\n",
              "    }\n",
              "\n",
              "    .colab-df-convert {\n",
              "      background-color: #E8F0FE;\n",
              "      border: none;\n",
              "      border-radius: 50%;\n",
              "      cursor: pointer;\n",
              "      display: none;\n",
              "      fill: #1967D2;\n",
              "      height: 32px;\n",
              "      padding: 0 0 0 0;\n",
              "      width: 32px;\n",
              "    }\n",
              "\n",
              "    .colab-df-convert:hover {\n",
              "      background-color: #E2EBFA;\n",
              "      box-shadow: 0px 1px 2px rgba(60, 64, 67, 0.3), 0px 1px 3px 1px rgba(60, 64, 67, 0.15);\n",
              "      fill: #174EA6;\n",
              "    }\n",
              "\n",
              "    .colab-df-buttons div {\n",
              "      margin-bottom: 4px;\n",
              "    }\n",
              "\n",
              "    [theme=dark] .colab-df-convert {\n",
              "      background-color: #3B4455;\n",
              "      fill: #D2E3FC;\n",
              "    }\n",
              "\n",
              "    [theme=dark] .colab-df-convert:hover {\n",
              "      background-color: #434B5C;\n",
              "      box-shadow: 0px 1px 3px 1px rgba(0, 0, 0, 0.15);\n",
              "      filter: drop-shadow(0px 1px 2px rgba(0, 0, 0, 0.3));\n",
              "      fill: #FFFFFF;\n",
              "    }\n",
              "  </style>\n",
              "\n",
              "    <script>\n",
              "      const buttonEl =\n",
              "        document.querySelector('#df-29e86f78-71cf-4551-b98a-90178f87a3cf button.colab-df-convert');\n",
              "      buttonEl.style.display =\n",
              "        google.colab.kernel.accessAllowed ? 'block' : 'none';\n",
              "\n",
              "      async function convertToInteractive(key) {\n",
              "        const element = document.querySelector('#df-29e86f78-71cf-4551-b98a-90178f87a3cf');\n",
              "        const dataTable =\n",
              "          await google.colab.kernel.invokeFunction('convertToInteractive',\n",
              "                                                    [key], {});\n",
              "        if (!dataTable) return;\n",
              "\n",
              "        const docLinkHtml = 'Like what you see? Visit the ' +\n",
              "          '<a target=\"_blank\" href=https://colab.research.google.com/notebooks/data_table.ipynb>data table notebook</a>'\n",
              "          + ' to learn more about interactive tables.';\n",
              "        element.innerHTML = '';\n",
              "        dataTable['output_type'] = 'display_data';\n",
              "        await google.colab.output.renderOutput(dataTable, element);\n",
              "        const docLink = document.createElement('div');\n",
              "        docLink.innerHTML = docLinkHtml;\n",
              "        element.appendChild(docLink);\n",
              "      }\n",
              "    </script>\n",
              "  </div>\n",
              "\n",
              "\n",
              "    <div id=\"df-e9a95643-fda1-430c-a077-01b3f81a2f5d\">\n",
              "      <button class=\"colab-df-quickchart\" onclick=\"quickchart('df-e9a95643-fda1-430c-a077-01b3f81a2f5d')\"\n",
              "                title=\"Suggest charts\"\n",
              "                style=\"display:none;\">\n",
              "\n",
              "<svg xmlns=\"http://www.w3.org/2000/svg\" height=\"24px\"viewBox=\"0 0 24 24\"\n",
              "     width=\"24px\">\n",
              "    <g>\n",
              "        <path d=\"M19 3H5c-1.1 0-2 .9-2 2v14c0 1.1.9 2 2 2h14c1.1 0 2-.9 2-2V5c0-1.1-.9-2-2-2zM9 17H7v-7h2v7zm4 0h-2V7h2v10zm4 0h-2v-4h2v4z\"/>\n",
              "    </g>\n",
              "</svg>\n",
              "      </button>\n",
              "\n",
              "<style>\n",
              "  .colab-df-quickchart {\n",
              "      --bg-color: #E8F0FE;\n",
              "      --fill-color: #1967D2;\n",
              "      --hover-bg-color: #E2EBFA;\n",
              "      --hover-fill-color: #174EA6;\n",
              "      --disabled-fill-color: #AAA;\n",
              "      --disabled-bg-color: #DDD;\n",
              "  }\n",
              "\n",
              "  [theme=dark] .colab-df-quickchart {\n",
              "      --bg-color: #3B4455;\n",
              "      --fill-color: #D2E3FC;\n",
              "      --hover-bg-color: #434B5C;\n",
              "      --hover-fill-color: #FFFFFF;\n",
              "      --disabled-bg-color: #3B4455;\n",
              "      --disabled-fill-color: #666;\n",
              "  }\n",
              "\n",
              "  .colab-df-quickchart {\n",
              "    background-color: var(--bg-color);\n",
              "    border: none;\n",
              "    border-radius: 50%;\n",
              "    cursor: pointer;\n",
              "    display: none;\n",
              "    fill: var(--fill-color);\n",
              "    height: 32px;\n",
              "    padding: 0;\n",
              "    width: 32px;\n",
              "  }\n",
              "\n",
              "  .colab-df-quickchart:hover {\n",
              "    background-color: var(--hover-bg-color);\n",
              "    box-shadow: 0 1px 2px rgba(60, 64, 67, 0.3), 0 1px 3px 1px rgba(60, 64, 67, 0.15);\n",
              "    fill: var(--button-hover-fill-color);\n",
              "  }\n",
              "\n",
              "  .colab-df-quickchart-complete:disabled,\n",
              "  .colab-df-quickchart-complete:disabled:hover {\n",
              "    background-color: var(--disabled-bg-color);\n",
              "    fill: var(--disabled-fill-color);\n",
              "    box-shadow: none;\n",
              "  }\n",
              "\n",
              "  .colab-df-spinner {\n",
              "    border: 2px solid var(--fill-color);\n",
              "    border-color: transparent;\n",
              "    border-bottom-color: var(--fill-color);\n",
              "    animation:\n",
              "      spin 1s steps(1) infinite;\n",
              "  }\n",
              "\n",
              "  @keyframes spin {\n",
              "    0% {\n",
              "      border-color: transparent;\n",
              "      border-bottom-color: var(--fill-color);\n",
              "      border-left-color: var(--fill-color);\n",
              "    }\n",
              "    20% {\n",
              "      border-color: transparent;\n",
              "      border-left-color: var(--fill-color);\n",
              "      border-top-color: var(--fill-color);\n",
              "    }\n",
              "    30% {\n",
              "      border-color: transparent;\n",
              "      border-left-color: var(--fill-color);\n",
              "      border-top-color: var(--fill-color);\n",
              "      border-right-color: var(--fill-color);\n",
              "    }\n",
              "    40% {\n",
              "      border-color: transparent;\n",
              "      border-right-color: var(--fill-color);\n",
              "      border-top-color: var(--fill-color);\n",
              "    }\n",
              "    60% {\n",
              "      border-color: transparent;\n",
              "      border-right-color: var(--fill-color);\n",
              "    }\n",
              "    80% {\n",
              "      border-color: transparent;\n",
              "      border-right-color: var(--fill-color);\n",
              "      border-bottom-color: var(--fill-color);\n",
              "    }\n",
              "    90% {\n",
              "      border-color: transparent;\n",
              "      border-bottom-color: var(--fill-color);\n",
              "    }\n",
              "  }\n",
              "</style>\n",
              "\n",
              "      <script>\n",
              "        async function quickchart(key) {\n",
              "          const quickchartButtonEl =\n",
              "            document.querySelector('#' + key + ' button');\n",
              "          quickchartButtonEl.disabled = true;  // To prevent multiple clicks.\n",
              "          quickchartButtonEl.classList.add('colab-df-spinner');\n",
              "          try {\n",
              "            const charts = await google.colab.kernel.invokeFunction(\n",
              "                'suggestCharts', [key], {});\n",
              "          } catch (error) {\n",
              "            console.error('Error during call to suggestCharts:', error);\n",
              "          }\n",
              "          quickchartButtonEl.classList.remove('colab-df-spinner');\n",
              "          quickchartButtonEl.classList.add('colab-df-quickchart-complete');\n",
              "        }\n",
              "        (() => {\n",
              "          let quickchartButtonEl =\n",
              "            document.querySelector('#df-e9a95643-fda1-430c-a077-01b3f81a2f5d button');\n",
              "          quickchartButtonEl.style.display =\n",
              "            google.colab.kernel.accessAllowed ? 'block' : 'none';\n",
              "        })();\n",
              "      </script>\n",
              "    </div>\n",
              "\n",
              "    </div>\n",
              "  </div>\n"
            ],
            "application/vnd.google.colaboratory.intrinsic+json": {
              "type": "dataframe",
              "summary": "{\n  \"name\": \"teste_ab\",\n  \"rows\": 8,\n  \"fields\": [\n    {\n      \"column\": \"Visitante_ID\",\n      \"properties\": {\n        \"dtype\": \"number\",\n        \"std\": 720.5049024934813,\n        \"min\": 1.0,\n        \"max\": 2000.0,\n        \"num_unique_values\": 6,\n        \"samples\": [\n          2000.0,\n          1000.5,\n          1500.25\n        ],\n        \"semantic_type\": \"\",\n        \"description\": \"\"\n      }\n    },\n    {\n      \"column\": \"Visualiza\\u00e7\\u00f5es\",\n      \"properties\": {\n        \"dtype\": \"number\",\n        \"std\": 662.132254733942,\n        \"min\": 28.809420527069804,\n        \"max\": 2000.0,\n        \"num_unique_values\": 8,\n        \"samples\": [\n          150.7555,\n          151.0,\n          2000.0\n        ],\n        \"semantic_type\": \"\",\n        \"description\": \"\"\n      }\n    },\n    {\n      \"column\": \"Convers\\u00f5es\",\n      \"properties\": {\n        \"dtype\": \"number\",\n        \"std\": 707.0344310777264,\n        \"min\": 0.0,\n        \"max\": 2000.0,\n        \"num_unique_values\": 5,\n        \"samples\": [\n          0.115,\n          1.0,\n          0.31910172822546823\n        ],\n        \"semantic_type\": \"\",\n        \"description\": \"\"\n      }\n    }\n  ]\n}"
            }
          },
          "metadata": {},
          "execution_count": 158
        }
      ]
    },
    {
      "cell_type": "code",
      "source": [
        "teste_ab.describe(include=['object'])"
      ],
      "metadata": {
        "colab": {
          "base_uri": "https://localhost:8080/",
          "height": 175
        },
        "id": "9mVLKDDSdAcG",
        "outputId": "0093300a-c38b-49a8-9fce-e09d0ccb567a"
      },
      "execution_count": 159,
      "outputs": [
        {
          "output_type": "execute_result",
          "data": {
            "text/plain": [
              "       Versão_Página\n",
              "count           2000\n",
              "unique             2\n",
              "top                A\n",
              "freq            1000"
            ],
            "text/html": [
              "\n",
              "  <div id=\"df-c6617a58-13b9-4670-bdbb-25f815cd03aa\" class=\"colab-df-container\">\n",
              "    <div>\n",
              "<style scoped>\n",
              "    .dataframe tbody tr th:only-of-type {\n",
              "        vertical-align: middle;\n",
              "    }\n",
              "\n",
              "    .dataframe tbody tr th {\n",
              "        vertical-align: top;\n",
              "    }\n",
              "\n",
              "    .dataframe thead th {\n",
              "        text-align: right;\n",
              "    }\n",
              "</style>\n",
              "<table border=\"1\" class=\"dataframe\">\n",
              "  <thead>\n",
              "    <tr style=\"text-align: right;\">\n",
              "      <th></th>\n",
              "      <th>Versão_Página</th>\n",
              "    </tr>\n",
              "  </thead>\n",
              "  <tbody>\n",
              "    <tr>\n",
              "      <th>count</th>\n",
              "      <td>2000</td>\n",
              "    </tr>\n",
              "    <tr>\n",
              "      <th>unique</th>\n",
              "      <td>2</td>\n",
              "    </tr>\n",
              "    <tr>\n",
              "      <th>top</th>\n",
              "      <td>A</td>\n",
              "    </tr>\n",
              "    <tr>\n",
              "      <th>freq</th>\n",
              "      <td>1000</td>\n",
              "    </tr>\n",
              "  </tbody>\n",
              "</table>\n",
              "</div>\n",
              "    <div class=\"colab-df-buttons\">\n",
              "\n",
              "  <div class=\"colab-df-container\">\n",
              "    <button class=\"colab-df-convert\" onclick=\"convertToInteractive('df-c6617a58-13b9-4670-bdbb-25f815cd03aa')\"\n",
              "            title=\"Convert this dataframe to an interactive table.\"\n",
              "            style=\"display:none;\">\n",
              "\n",
              "  <svg xmlns=\"http://www.w3.org/2000/svg\" height=\"24px\" viewBox=\"0 -960 960 960\">\n",
              "    <path d=\"M120-120v-720h720v720H120Zm60-500h600v-160H180v160Zm220 220h160v-160H400v160Zm0 220h160v-160H400v160ZM180-400h160v-160H180v160Zm440 0h160v-160H620v160ZM180-180h160v-160H180v160Zm440 0h160v-160H620v160Z\"/>\n",
              "  </svg>\n",
              "    </button>\n",
              "\n",
              "  <style>\n",
              "    .colab-df-container {\n",
              "      display:flex;\n",
              "      gap: 12px;\n",
              "    }\n",
              "\n",
              "    .colab-df-convert {\n",
              "      background-color: #E8F0FE;\n",
              "      border: none;\n",
              "      border-radius: 50%;\n",
              "      cursor: pointer;\n",
              "      display: none;\n",
              "      fill: #1967D2;\n",
              "      height: 32px;\n",
              "      padding: 0 0 0 0;\n",
              "      width: 32px;\n",
              "    }\n",
              "\n",
              "    .colab-df-convert:hover {\n",
              "      background-color: #E2EBFA;\n",
              "      box-shadow: 0px 1px 2px rgba(60, 64, 67, 0.3), 0px 1px 3px 1px rgba(60, 64, 67, 0.15);\n",
              "      fill: #174EA6;\n",
              "    }\n",
              "\n",
              "    .colab-df-buttons div {\n",
              "      margin-bottom: 4px;\n",
              "    }\n",
              "\n",
              "    [theme=dark] .colab-df-convert {\n",
              "      background-color: #3B4455;\n",
              "      fill: #D2E3FC;\n",
              "    }\n",
              "\n",
              "    [theme=dark] .colab-df-convert:hover {\n",
              "      background-color: #434B5C;\n",
              "      box-shadow: 0px 1px 3px 1px rgba(0, 0, 0, 0.15);\n",
              "      filter: drop-shadow(0px 1px 2px rgba(0, 0, 0, 0.3));\n",
              "      fill: #FFFFFF;\n",
              "    }\n",
              "  </style>\n",
              "\n",
              "    <script>\n",
              "      const buttonEl =\n",
              "        document.querySelector('#df-c6617a58-13b9-4670-bdbb-25f815cd03aa button.colab-df-convert');\n",
              "      buttonEl.style.display =\n",
              "        google.colab.kernel.accessAllowed ? 'block' : 'none';\n",
              "\n",
              "      async function convertToInteractive(key) {\n",
              "        const element = document.querySelector('#df-c6617a58-13b9-4670-bdbb-25f815cd03aa');\n",
              "        const dataTable =\n",
              "          await google.colab.kernel.invokeFunction('convertToInteractive',\n",
              "                                                    [key], {});\n",
              "        if (!dataTable) return;\n",
              "\n",
              "        const docLinkHtml = 'Like what you see? Visit the ' +\n",
              "          '<a target=\"_blank\" href=https://colab.research.google.com/notebooks/data_table.ipynb>data table notebook</a>'\n",
              "          + ' to learn more about interactive tables.';\n",
              "        element.innerHTML = '';\n",
              "        dataTable['output_type'] = 'display_data';\n",
              "        await google.colab.output.renderOutput(dataTable, element);\n",
              "        const docLink = document.createElement('div');\n",
              "        docLink.innerHTML = docLinkHtml;\n",
              "        element.appendChild(docLink);\n",
              "      }\n",
              "    </script>\n",
              "  </div>\n",
              "\n",
              "\n",
              "    <div id=\"df-d497619c-4776-44bb-90c9-136dcc87389d\">\n",
              "      <button class=\"colab-df-quickchart\" onclick=\"quickchart('df-d497619c-4776-44bb-90c9-136dcc87389d')\"\n",
              "                title=\"Suggest charts\"\n",
              "                style=\"display:none;\">\n",
              "\n",
              "<svg xmlns=\"http://www.w3.org/2000/svg\" height=\"24px\"viewBox=\"0 0 24 24\"\n",
              "     width=\"24px\">\n",
              "    <g>\n",
              "        <path d=\"M19 3H5c-1.1 0-2 .9-2 2v14c0 1.1.9 2 2 2h14c1.1 0 2-.9 2-2V5c0-1.1-.9-2-2-2zM9 17H7v-7h2v7zm4 0h-2V7h2v10zm4 0h-2v-4h2v4z\"/>\n",
              "    </g>\n",
              "</svg>\n",
              "      </button>\n",
              "\n",
              "<style>\n",
              "  .colab-df-quickchart {\n",
              "      --bg-color: #E8F0FE;\n",
              "      --fill-color: #1967D2;\n",
              "      --hover-bg-color: #E2EBFA;\n",
              "      --hover-fill-color: #174EA6;\n",
              "      --disabled-fill-color: #AAA;\n",
              "      --disabled-bg-color: #DDD;\n",
              "  }\n",
              "\n",
              "  [theme=dark] .colab-df-quickchart {\n",
              "      --bg-color: #3B4455;\n",
              "      --fill-color: #D2E3FC;\n",
              "      --hover-bg-color: #434B5C;\n",
              "      --hover-fill-color: #FFFFFF;\n",
              "      --disabled-bg-color: #3B4455;\n",
              "      --disabled-fill-color: #666;\n",
              "  }\n",
              "\n",
              "  .colab-df-quickchart {\n",
              "    background-color: var(--bg-color);\n",
              "    border: none;\n",
              "    border-radius: 50%;\n",
              "    cursor: pointer;\n",
              "    display: none;\n",
              "    fill: var(--fill-color);\n",
              "    height: 32px;\n",
              "    padding: 0;\n",
              "    width: 32px;\n",
              "  }\n",
              "\n",
              "  .colab-df-quickchart:hover {\n",
              "    background-color: var(--hover-bg-color);\n",
              "    box-shadow: 0 1px 2px rgba(60, 64, 67, 0.3), 0 1px 3px 1px rgba(60, 64, 67, 0.15);\n",
              "    fill: var(--button-hover-fill-color);\n",
              "  }\n",
              "\n",
              "  .colab-df-quickchart-complete:disabled,\n",
              "  .colab-df-quickchart-complete:disabled:hover {\n",
              "    background-color: var(--disabled-bg-color);\n",
              "    fill: var(--disabled-fill-color);\n",
              "    box-shadow: none;\n",
              "  }\n",
              "\n",
              "  .colab-df-spinner {\n",
              "    border: 2px solid var(--fill-color);\n",
              "    border-color: transparent;\n",
              "    border-bottom-color: var(--fill-color);\n",
              "    animation:\n",
              "      spin 1s steps(1) infinite;\n",
              "  }\n",
              "\n",
              "  @keyframes spin {\n",
              "    0% {\n",
              "      border-color: transparent;\n",
              "      border-bottom-color: var(--fill-color);\n",
              "      border-left-color: var(--fill-color);\n",
              "    }\n",
              "    20% {\n",
              "      border-color: transparent;\n",
              "      border-left-color: var(--fill-color);\n",
              "      border-top-color: var(--fill-color);\n",
              "    }\n",
              "    30% {\n",
              "      border-color: transparent;\n",
              "      border-left-color: var(--fill-color);\n",
              "      border-top-color: var(--fill-color);\n",
              "      border-right-color: var(--fill-color);\n",
              "    }\n",
              "    40% {\n",
              "      border-color: transparent;\n",
              "      border-right-color: var(--fill-color);\n",
              "      border-top-color: var(--fill-color);\n",
              "    }\n",
              "    60% {\n",
              "      border-color: transparent;\n",
              "      border-right-color: var(--fill-color);\n",
              "    }\n",
              "    80% {\n",
              "      border-color: transparent;\n",
              "      border-right-color: var(--fill-color);\n",
              "      border-bottom-color: var(--fill-color);\n",
              "    }\n",
              "    90% {\n",
              "      border-color: transparent;\n",
              "      border-bottom-color: var(--fill-color);\n",
              "    }\n",
              "  }\n",
              "</style>\n",
              "\n",
              "      <script>\n",
              "        async function quickchart(key) {\n",
              "          const quickchartButtonEl =\n",
              "            document.querySelector('#' + key + ' button');\n",
              "          quickchartButtonEl.disabled = true;  // To prevent multiple clicks.\n",
              "          quickchartButtonEl.classList.add('colab-df-spinner');\n",
              "          try {\n",
              "            const charts = await google.colab.kernel.invokeFunction(\n",
              "                'suggestCharts', [key], {});\n",
              "          } catch (error) {\n",
              "            console.error('Error during call to suggestCharts:', error);\n",
              "          }\n",
              "          quickchartButtonEl.classList.remove('colab-df-spinner');\n",
              "          quickchartButtonEl.classList.add('colab-df-quickchart-complete');\n",
              "        }\n",
              "        (() => {\n",
              "          let quickchartButtonEl =\n",
              "            document.querySelector('#df-d497619c-4776-44bb-90c9-136dcc87389d button');\n",
              "          quickchartButtonEl.style.display =\n",
              "            google.colab.kernel.accessAllowed ? 'block' : 'none';\n",
              "        })();\n",
              "      </script>\n",
              "    </div>\n",
              "\n",
              "    </div>\n",
              "  </div>\n"
            ],
            "application/vnd.google.colaboratory.intrinsic+json": {
              "type": "dataframe",
              "summary": "{\n  \"name\": \"teste_ab\",\n  \"rows\": 4,\n  \"fields\": [\n    {\n      \"column\": \"Vers\\u00e3o_P\\u00e1gina\",\n      \"properties\": {\n        \"dtype\": \"string\",\n        \"num_unique_values\": 4,\n        \"samples\": [\n          2,\n          \"1000\",\n          \"2000\"\n        ],\n        \"semantic_type\": \"\",\n        \"description\": \"\"\n      }\n    }\n  ]\n}"
            }
          },
          "metadata": {},
          "execution_count": 159
        }
      ]
    },
    {
      "cell_type": "code",
      "source": [
        "teste_ab.info()"
      ],
      "metadata": {
        "colab": {
          "base_uri": "https://localhost:8080/"
        },
        "id": "p3-eN51fdX9s",
        "outputId": "8bf24277-91e9-4720-9e85-e53d76f96807"
      },
      "execution_count": 160,
      "outputs": [
        {
          "output_type": "stream",
          "name": "stdout",
          "text": [
            "<class 'pandas.core.frame.DataFrame'>\n",
            "RangeIndex: 2000 entries, 0 to 1999\n",
            "Data columns (total 4 columns):\n",
            " #   Column         Non-Null Count  Dtype \n",
            "---  ------         --------------  ----- \n",
            " 0   Visitante_ID   2000 non-null   int64 \n",
            " 1   Versão_Página  2000 non-null   object\n",
            " 2   Visualizações  2000 non-null   int64 \n",
            " 3   Conversões     2000 non-null   int64 \n",
            "dtypes: int64(3), object(1)\n",
            "memory usage: 62.6+ KB\n"
          ]
        }
      ]
    },
    {
      "cell_type": "markdown",
      "source": [
        "#####1.Qual dos cenários tem a maior taxa de conversão?"
      ],
      "metadata": {
        "id": "OtHzASwMWPTU"
      }
    },
    {
      "cell_type": "markdown",
      "source": [
        "Foi realizado uma análise descritiva para calcular e comparar as taxas de conversão entre as diferentes versões da página (A e B).\n",
        "Identificou-se as versões únicas da página e para cada versão, calculou o total de conversões e o total de visualizações.\n",
        "Calculou a taxa de conversão dividindo o total de conversões pelo total de visualizações e multiplicou por 100.\n",
        "Compararou as taxas de conversão calculadas para determinar qual versão teve a maior taxa.\n"
      ],
      "metadata": {
        "id": "CLy5QjFxCYeU"
      }
    },
    {
      "cell_type": "code",
      "source": [
        "# Encontra valores únicos para Versão_Página\n",
        "versoes_unicas = teste_ab['Versão_Página'].unique()\n",
        "\n",
        "# Dicionário para armazenar os resultados para cada versão da página\n",
        "resultados = {}\n",
        "\n",
        "# Inicializa valores\n",
        "maior_taxa = 0\n",
        "versao_pagina = ''\n",
        "\n",
        "for versao in versoes_unicas:\n",
        "    # Filtra o dataframe para cada Versão_Página\n",
        "    teste_ab_versao = teste_ab[teste_ab['Versão_Página'] == versao]\n",
        "\n",
        "    # Calcula o total de conversões e visualizações\n",
        "    total_conversao    = teste_ab_versao['Conversões'].sum()\n",
        "    total_visualizacao = teste_ab_versao['Visualizações'].sum()\n",
        "\n",
        "    # Calcula a taxa de conversão\n",
        "    taxa_conversao = (total_conversao / total_visualizacao) * 100\n",
        "\n",
        "    # Armazena os resultados no dicionário\n",
        "    resultados[versao] = {'Total_Conversao': total_conversao,\n",
        "                          'Total_Visualizacao': total_visualizacao,\n",
        "                          'Taxa_Conversao': round(taxa_conversao, 2)}\n",
        "\n",
        "    # Valida maior Taxa de Conversão\n",
        "    if (taxa_conversao > maior_taxa):\n",
        "        maior_taxa    = round(taxa_conversao, 2)\n",
        "        versao_pagina = versao\n",
        "\n",
        "# Resultados\n",
        "for versao, resultado in resultados.items():\n",
        "    print(f\"Versão {versao}\")\n",
        "    print(f\"Total de conversões   : {resultado['Total_Conversao']}\")\n",
        "    print(f\"Total de visualizações: {resultado['Total_Visualizacao']}\")\n",
        "    print(f\"Taxa de conversão (%) : {resultado['Taxa_Conversao']}\")\n",
        "    print()\n",
        "\n",
        "print(f\"A versão {versao_pagina} apresentou a maior taxa de conversão, atingindo {maior_taxa}%.\")"
      ],
      "metadata": {
        "colab": {
          "base_uri": "https://localhost:8080/"
        },
        "id": "dCl2M7J7Vp1D",
        "outputId": "6e4b9b8f-e1af-466c-d3f8-045198c24cec"
      },
      "execution_count": 161,
      "outputs": [
        {
          "output_type": "stream",
          "name": "stdout",
          "text": [
            "Versão A\n",
            "Total de conversões   : 105\n",
            "Total de visualizações: 150835\n",
            "Taxa de conversão (%) : 0.07\n",
            "\n",
            "Versão B\n",
            "Total de conversões   : 125\n",
            "Total de visualizações: 150676\n",
            "Taxa de conversão (%) : 0.08\n",
            "\n",
            "A versão B apresentou a maior taxa de conversão, atingindo 0.08%.\n"
          ]
        }
      ]
    },
    {
      "cell_type": "markdown",
      "metadata": {
        "id": "5b54d3d6"
      },
      "source": [
        "**Conclusão:**\n",
        "\n",
        "Com base na análise descritiva das taxas de conversão, a Versão B apresentou a maior taxa de conversão, atingindo 0.08%, em comparação com a Versão A, que teve uma taxa de 0.07%. Isso sugere que, neste experimento, a Versão B teve um desempenho ligeiramente melhor em termos de conversões por visualização."
      ]
    },
    {
      "cell_type": "markdown",
      "source": [
        "#####2.Calcule qual o tamanho da amostra necessária para o desenvolvimento de um teste A/B, seguindo os seguintes critérios:"
      ],
      "metadata": {
        "id": "tlJNPbBZWXW0"
      }
    },
    {
      "cell_type": "markdown",
      "source": [
        "* O cenário A, da base, como o inicial, que funciona hoje.\n",
        "* Considere 95% de confiança de que o efeito na conversão não foi aleatório com um nível de significância de 5% (alpha = 0,05).\n",
        "* Também considere 80% de certeza de conseguir capturar o efeito da nova abordagem.\n",
        "* O aumento para 10% de conversão."
      ],
      "metadata": {
        "id": "BGGC3AAyewqR"
      }
    },
    {
      "cell_type": "markdown",
      "source": [
        "Foi utilizado cálculos estatísticos para determinar o tamanho da amostra, o que é uma etapa de planejamento para um teste de hipótese futuro (o teste A/B). Esses cálculos utilizam fórmulas estatísticas que incorporam conceitos como z-scores associados aos níveis de confiança e poder, bem como a diferença esperada nas taxas de conversão (delta) e a variância."
      ],
      "metadata": {
        "id": "rInLgvsgD0KB"
      }
    },
    {
      "cell_type": "code",
      "source": [
        "# Cria dataframe separado para o cenário A\n",
        "teste_ab_A = teste_ab[teste_ab['Versão_Página'] == 'A']\n",
        "\n",
        "# Taxa de conversão ideal (10%)\n",
        "taxa_conversao_ideal = 0.10\n",
        "\n",
        "# Taxa de conversão atual\n",
        "total_conversao      = teste_ab_A['Conversões'].sum()\n",
        "total_visualizacao   = teste_ab_A['Visualizações'].sum()\n",
        "taxa_conversao_atual = total_conversao / total_visualizacao\n",
        "\n",
        "# Delta: diferença entre a taxa de conversão ideal e a atual\n",
        "delta = taxa_conversao_ideal - taxa_conversao_atual\n",
        "\n",
        "# Nível de confiança (1 - alpha)\n",
        "confianca = 0.95\n",
        "\n",
        "# Nível de significância (alpha)\n",
        "alpha = 0.05\n",
        "\n",
        "# Z-score correspondente ao nível de confiança (1 - alpha/2)\n",
        "z_alpha = stat.norm.ppf(1 - alpha/2)\n",
        "print(f'Valor de Zα: {z_alpha:.2f}')\n",
        "\n",
        "# Poder estatístico (80%) (beta)\n",
        "beta = 0.80\n",
        "\n",
        "# Z-score correspondente ao poder estatístico (1 - beta)\n",
        "z_beta = stat.norm.ppf(1 - (1 - beta))\n",
        "print(f'Valor de Zβ: {z_beta:.2f}')\n",
        "\n",
        "# Variância amostral para o cenário A\n",
        "variancia_amostral_A = teste_ab.groupby('Versão_Página')['Conversões'].sum().var()\n",
        "print(f'Valor de Variância amostral: {variancia_amostral_A}')\n",
        "\n",
        "# Tamanho da amostra necessário\n",
        "n = (2 * (variancia_amostral_A) * (z_alpha + z_beta)**2) / delta**2\n",
        "\n",
        "# Arredondando para o próximo número inteiro\n",
        "tamanho_amostra_necessario = round(n)\n",
        "\n",
        "print(\"Tamanho da amostra necessário:\", tamanho_amostra_necessario)"
      ],
      "metadata": {
        "colab": {
          "base_uri": "https://localhost:8080/"
        },
        "id": "SbmfJAUAVqFt",
        "outputId": "ec2b44af-c7ad-41d7-82d5-94e6cf8a0bfe"
      },
      "execution_count": 162,
      "outputs": [
        {
          "output_type": "stream",
          "name": "stdout",
          "text": [
            "Valor de Zα: 1.96\n",
            "Valor de Zβ: 0.84\n",
            "Valor de Variância amostral: 200.0\n",
            "Tamanho da amostra necessário: 318372\n"
          ]
        }
      ]
    },
    {
      "cell_type": "markdown",
      "metadata": {
        "id": "295afa8a"
      },
      "source": [
        "**Conclusão:**\n",
        "\n",
        "Com base nos critérios especificados (cenário A como inicial, 95% de confiança, nível de significância de 5%, 80% de poder estatístico e um aumento esperado de 10% na conversão), o tamanho da amostra necessário para o desenvolvimento de um teste A/B é de aproximadamente **318.372**.\n",
        "\n",
        "Este cálculo indica que para ter uma alta probabilidade de detectar uma diferença de 10% na taxa de conversão, caso ela realmente exista, seria preciso coletar dados de cerca de 318.372 visitantes em cada grupo (Versão A e Versão B) do teste A/B."
      ]
    },
    {
      "cell_type": "markdown",
      "source": [
        "####Parte II - \"População\""
      ],
      "metadata": {
        "id": "Aeyy4NxwXWo2"
      }
    },
    {
      "cell_type": "markdown",
      "source": [
        "Importando o dataset  `pacientes.csv`:"
      ],
      "metadata": {
        "id": "-jK3a8lSTZRG"
      }
    },
    {
      "cell_type": "code",
      "source": [
        "pacientes = pd.read_csv('/content/drive/MyDrive/Exercício/pacientes.csv')"
      ],
      "metadata": {
        "id": "-CcBBKxlqMW4"
      },
      "execution_count": 163,
      "outputs": []
    },
    {
      "cell_type": "markdown",
      "source": [
        "Conhecendo a base de dados:"
      ],
      "metadata": {
        "id": "m9JrqdSzYEPj"
      }
    },
    {
      "cell_type": "code",
      "source": [
        "pacientes.shape"
      ],
      "metadata": {
        "colab": {
          "base_uri": "https://localhost:8080/"
        },
        "id": "Q1AxBLfwchEq",
        "outputId": "9adec764-0906-4c19-919f-466688f6f230"
      },
      "execution_count": 164,
      "outputs": [
        {
          "output_type": "execute_result",
          "data": {
            "text/plain": [
              "(1000, 9)"
            ]
          },
          "metadata": {},
          "execution_count": 164
        }
      ]
    },
    {
      "cell_type": "code",
      "source": [
        "pacientes.head()"
      ],
      "metadata": {
        "colab": {
          "base_uri": "https://localhost:8080/",
          "height": 206
        },
        "id": "LImgIdPGYU9u",
        "outputId": "9cf83a09-41b1-4893-a3d8-0a23f7b0b2af"
      },
      "execution_count": 165,
      "outputs": [
        {
          "output_type": "execute_result",
          "data": {
            "text/plain": [
              "   Unnamed: 0  Pressao_Arterial  Idade  Genero  Etnia  Estado_Saude  \\\n",
              "0           0        142.755809     31       1      1             1   \n",
              "1           1        161.878468     35       1      1             0   \n",
              "2           2        161.508259     39       0      3             1   \n",
              "3           3        144.979408     43       1      3             1   \n",
              "4           4        162.502954     55       0      2             1   \n",
              "\n",
              "  Nome_Genero      Nome_Etnia                  Nome_Estado_Saude  \n",
              "0    Feminino  Afro-americano  Com condições de saúde adicionais  \n",
              "1    Feminino  Afro-americano                           Saudável  \n",
              "2   Masculino        Asiático  Com condições de saúde adicionais  \n",
              "3    Feminino        Asiático  Com condições de saúde adicionais  \n",
              "4   Masculino       Hispânico  Com condições de saúde adicionais  "
            ],
            "text/html": [
              "\n",
              "  <div id=\"df-c711685f-b873-4c32-8ded-8ebd928eb8b1\" class=\"colab-df-container\">\n",
              "    <div>\n",
              "<style scoped>\n",
              "    .dataframe tbody tr th:only-of-type {\n",
              "        vertical-align: middle;\n",
              "    }\n",
              "\n",
              "    .dataframe tbody tr th {\n",
              "        vertical-align: top;\n",
              "    }\n",
              "\n",
              "    .dataframe thead th {\n",
              "        text-align: right;\n",
              "    }\n",
              "</style>\n",
              "<table border=\"1\" class=\"dataframe\">\n",
              "  <thead>\n",
              "    <tr style=\"text-align: right;\">\n",
              "      <th></th>\n",
              "      <th>Unnamed: 0</th>\n",
              "      <th>Pressao_Arterial</th>\n",
              "      <th>Idade</th>\n",
              "      <th>Genero</th>\n",
              "      <th>Etnia</th>\n",
              "      <th>Estado_Saude</th>\n",
              "      <th>Nome_Genero</th>\n",
              "      <th>Nome_Etnia</th>\n",
              "      <th>Nome_Estado_Saude</th>\n",
              "    </tr>\n",
              "  </thead>\n",
              "  <tbody>\n",
              "    <tr>\n",
              "      <th>0</th>\n",
              "      <td>0</td>\n",
              "      <td>142.755809</td>\n",
              "      <td>31</td>\n",
              "      <td>1</td>\n",
              "      <td>1</td>\n",
              "      <td>1</td>\n",
              "      <td>Feminino</td>\n",
              "      <td>Afro-americano</td>\n",
              "      <td>Com condições de saúde adicionais</td>\n",
              "    </tr>\n",
              "    <tr>\n",
              "      <th>1</th>\n",
              "      <td>1</td>\n",
              "      <td>161.878468</td>\n",
              "      <td>35</td>\n",
              "      <td>1</td>\n",
              "      <td>1</td>\n",
              "      <td>0</td>\n",
              "      <td>Feminino</td>\n",
              "      <td>Afro-americano</td>\n",
              "      <td>Saudável</td>\n",
              "    </tr>\n",
              "    <tr>\n",
              "      <th>2</th>\n",
              "      <td>2</td>\n",
              "      <td>161.508259</td>\n",
              "      <td>39</td>\n",
              "      <td>0</td>\n",
              "      <td>3</td>\n",
              "      <td>1</td>\n",
              "      <td>Masculino</td>\n",
              "      <td>Asiático</td>\n",
              "      <td>Com condições de saúde adicionais</td>\n",
              "    </tr>\n",
              "    <tr>\n",
              "      <th>3</th>\n",
              "      <td>3</td>\n",
              "      <td>144.979408</td>\n",
              "      <td>43</td>\n",
              "      <td>1</td>\n",
              "      <td>3</td>\n",
              "      <td>1</td>\n",
              "      <td>Feminino</td>\n",
              "      <td>Asiático</td>\n",
              "      <td>Com condições de saúde adicionais</td>\n",
              "    </tr>\n",
              "    <tr>\n",
              "      <th>4</th>\n",
              "      <td>4</td>\n",
              "      <td>162.502954</td>\n",
              "      <td>55</td>\n",
              "      <td>0</td>\n",
              "      <td>2</td>\n",
              "      <td>1</td>\n",
              "      <td>Masculino</td>\n",
              "      <td>Hispânico</td>\n",
              "      <td>Com condições de saúde adicionais</td>\n",
              "    </tr>\n",
              "  </tbody>\n",
              "</table>\n",
              "</div>\n",
              "    <div class=\"colab-df-buttons\">\n",
              "\n",
              "  <div class=\"colab-df-container\">\n",
              "    <button class=\"colab-df-convert\" onclick=\"convertToInteractive('df-c711685f-b873-4c32-8ded-8ebd928eb8b1')\"\n",
              "            title=\"Convert this dataframe to an interactive table.\"\n",
              "            style=\"display:none;\">\n",
              "\n",
              "  <svg xmlns=\"http://www.w3.org/2000/svg\" height=\"24px\" viewBox=\"0 -960 960 960\">\n",
              "    <path d=\"M120-120v-720h720v720H120Zm60-500h600v-160H180v160Zm220 220h160v-160H400v160Zm0 220h160v-160H400v160ZM180-400h160v-160H180v160Zm440 0h160v-160H620v160ZM180-180h160v-160H180v160Zm440 0h160v-160H620v160Z\"/>\n",
              "  </svg>\n",
              "    </button>\n",
              "\n",
              "  <style>\n",
              "    .colab-df-container {\n",
              "      display:flex;\n",
              "      gap: 12px;\n",
              "    }\n",
              "\n",
              "    .colab-df-convert {\n",
              "      background-color: #E8F0FE;\n",
              "      border: none;\n",
              "      border-radius: 50%;\n",
              "      cursor: pointer;\n",
              "      display: none;\n",
              "      fill: #1967D2;\n",
              "      height: 32px;\n",
              "      padding: 0 0 0 0;\n",
              "      width: 32px;\n",
              "    }\n",
              "\n",
              "    .colab-df-convert:hover {\n",
              "      background-color: #E2EBFA;\n",
              "      box-shadow: 0px 1px 2px rgba(60, 64, 67, 0.3), 0px 1px 3px 1px rgba(60, 64, 67, 0.15);\n",
              "      fill: #174EA6;\n",
              "    }\n",
              "\n",
              "    .colab-df-buttons div {\n",
              "      margin-bottom: 4px;\n",
              "    }\n",
              "\n",
              "    [theme=dark] .colab-df-convert {\n",
              "      background-color: #3B4455;\n",
              "      fill: #D2E3FC;\n",
              "    }\n",
              "\n",
              "    [theme=dark] .colab-df-convert:hover {\n",
              "      background-color: #434B5C;\n",
              "      box-shadow: 0px 1px 3px 1px rgba(0, 0, 0, 0.15);\n",
              "      filter: drop-shadow(0px 1px 2px rgba(0, 0, 0, 0.3));\n",
              "      fill: #FFFFFF;\n",
              "    }\n",
              "  </style>\n",
              "\n",
              "    <script>\n",
              "      const buttonEl =\n",
              "        document.querySelector('#df-c711685f-b873-4c32-8ded-8ebd928eb8b1 button.colab-df-convert');\n",
              "      buttonEl.style.display =\n",
              "        google.colab.kernel.accessAllowed ? 'block' : 'none';\n",
              "\n",
              "      async function convertToInteractive(key) {\n",
              "        const element = document.querySelector('#df-c711685f-b873-4c32-8ded-8ebd928eb8b1');\n",
              "        const dataTable =\n",
              "          await google.colab.kernel.invokeFunction('convertToInteractive',\n",
              "                                                    [key], {});\n",
              "        if (!dataTable) return;\n",
              "\n",
              "        const docLinkHtml = 'Like what you see? Visit the ' +\n",
              "          '<a target=\"_blank\" href=https://colab.research.google.com/notebooks/data_table.ipynb>data table notebook</a>'\n",
              "          + ' to learn more about interactive tables.';\n",
              "        element.innerHTML = '';\n",
              "        dataTable['output_type'] = 'display_data';\n",
              "        await google.colab.output.renderOutput(dataTable, element);\n",
              "        const docLink = document.createElement('div');\n",
              "        docLink.innerHTML = docLinkHtml;\n",
              "        element.appendChild(docLink);\n",
              "      }\n",
              "    </script>\n",
              "  </div>\n",
              "\n",
              "\n",
              "    <div id=\"df-6f087140-7b1f-4f2c-8aa2-ad605606756c\">\n",
              "      <button class=\"colab-df-quickchart\" onclick=\"quickchart('df-6f087140-7b1f-4f2c-8aa2-ad605606756c')\"\n",
              "                title=\"Suggest charts\"\n",
              "                style=\"display:none;\">\n",
              "\n",
              "<svg xmlns=\"http://www.w3.org/2000/svg\" height=\"24px\"viewBox=\"0 0 24 24\"\n",
              "     width=\"24px\">\n",
              "    <g>\n",
              "        <path d=\"M19 3H5c-1.1 0-2 .9-2 2v14c0 1.1.9 2 2 2h14c1.1 0 2-.9 2-2V5c0-1.1-.9-2-2-2zM9 17H7v-7h2v7zm4 0h-2V7h2v10zm4 0h-2v-4h2v4z\"/>\n",
              "    </g>\n",
              "</svg>\n",
              "      </button>\n",
              "\n",
              "<style>\n",
              "  .colab-df-quickchart {\n",
              "      --bg-color: #E8F0FE;\n",
              "      --fill-color: #1967D2;\n",
              "      --hover-bg-color: #E2EBFA;\n",
              "      --hover-fill-color: #174EA6;\n",
              "      --disabled-fill-color: #AAA;\n",
              "      --disabled-bg-color: #DDD;\n",
              "  }\n",
              "\n",
              "  [theme=dark] .colab-df-quickchart {\n",
              "      --bg-color: #3B4455;\n",
              "      --fill-color: #D2E3FC;\n",
              "      --hover-bg-color: #434B5C;\n",
              "      --hover-fill-color: #FFFFFF;\n",
              "      --disabled-bg-color: #3B4455;\n",
              "      --disabled-fill-color: #666;\n",
              "  }\n",
              "\n",
              "  .colab-df-quickchart {\n",
              "    background-color: var(--bg-color);\n",
              "    border: none;\n",
              "    border-radius: 50%;\n",
              "    cursor: pointer;\n",
              "    display: none;\n",
              "    fill: var(--fill-color);\n",
              "    height: 32px;\n",
              "    padding: 0;\n",
              "    width: 32px;\n",
              "  }\n",
              "\n",
              "  .colab-df-quickchart:hover {\n",
              "    background-color: var(--hover-bg-color);\n",
              "    box-shadow: 0 1px 2px rgba(60, 64, 67, 0.3), 0 1px 3px 1px rgba(60, 64, 67, 0.15);\n",
              "    fill: var(--button-hover-fill-color);\n",
              "  }\n",
              "\n",
              "  .colab-df-quickchart-complete:disabled,\n",
              "  .colab-df-quickchart-complete:disabled:hover {\n",
              "    background-color: var(--disabled-bg-color);\n",
              "    fill: var(--disabled-fill-color);\n",
              "    box-shadow: none;\n",
              "  }\n",
              "\n",
              "  .colab-df-spinner {\n",
              "    border: 2px solid var(--fill-color);\n",
              "    border-color: transparent;\n",
              "    border-bottom-color: var(--fill-color);\n",
              "    animation:\n",
              "      spin 1s steps(1) infinite;\n",
              "  }\n",
              "\n",
              "  @keyframes spin {\n",
              "    0% {\n",
              "      border-color: transparent;\n",
              "      border-bottom-color: var(--fill-color);\n",
              "      border-left-color: var(--fill-color);\n",
              "    }\n",
              "    20% {\n",
              "      border-color: transparent;\n",
              "      border-left-color: var(--fill-color);\n",
              "      border-top-color: var(--fill-color);\n",
              "    }\n",
              "    30% {\n",
              "      border-color: transparent;\n",
              "      border-left-color: var(--fill-color);\n",
              "      border-top-color: var(--fill-color);\n",
              "      border-right-color: var(--fill-color);\n",
              "    }\n",
              "    40% {\n",
              "      border-color: transparent;\n",
              "      border-right-color: var(--fill-color);\n",
              "      border-top-color: var(--fill-color);\n",
              "    }\n",
              "    60% {\n",
              "      border-color: transparent;\n",
              "      border-right-color: var(--fill-color);\n",
              "    }\n",
              "    80% {\n",
              "      border-color: transparent;\n",
              "      border-right-color: var(--fill-color);\n",
              "      border-bottom-color: var(--fill-color);\n",
              "    }\n",
              "    90% {\n",
              "      border-color: transparent;\n",
              "      border-bottom-color: var(--fill-color);\n",
              "    }\n",
              "  }\n",
              "</style>\n",
              "\n",
              "      <script>\n",
              "        async function quickchart(key) {\n",
              "          const quickchartButtonEl =\n",
              "            document.querySelector('#' + key + ' button');\n",
              "          quickchartButtonEl.disabled = true;  // To prevent multiple clicks.\n",
              "          quickchartButtonEl.classList.add('colab-df-spinner');\n",
              "          try {\n",
              "            const charts = await google.colab.kernel.invokeFunction(\n",
              "                'suggestCharts', [key], {});\n",
              "          } catch (error) {\n",
              "            console.error('Error during call to suggestCharts:', error);\n",
              "          }\n",
              "          quickchartButtonEl.classList.remove('colab-df-spinner');\n",
              "          quickchartButtonEl.classList.add('colab-df-quickchart-complete');\n",
              "        }\n",
              "        (() => {\n",
              "          let quickchartButtonEl =\n",
              "            document.querySelector('#df-6f087140-7b1f-4f2c-8aa2-ad605606756c button');\n",
              "          quickchartButtonEl.style.display =\n",
              "            google.colab.kernel.accessAllowed ? 'block' : 'none';\n",
              "        })();\n",
              "      </script>\n",
              "    </div>\n",
              "\n",
              "    </div>\n",
              "  </div>\n"
            ],
            "application/vnd.google.colaboratory.intrinsic+json": {
              "type": "dataframe",
              "variable_name": "pacientes",
              "summary": "{\n  \"name\": \"pacientes\",\n  \"rows\": 1000,\n  \"fields\": [\n    {\n      \"column\": \"Unnamed: 0\",\n      \"properties\": {\n        \"dtype\": \"number\",\n        \"std\": 288,\n        \"min\": 0,\n        \"max\": 999,\n        \"num_unique_values\": 1000,\n        \"samples\": [\n          521,\n          737,\n          740\n        ],\n        \"semantic_type\": \"\",\n        \"description\": \"\"\n      }\n    },\n    {\n      \"column\": \"Pressao_Arterial\",\n      \"properties\": {\n        \"dtype\": \"number\",\n        \"std\": 9.943612581359616,\n        \"min\": 112.92982068924913,\n        \"max\": 181.80313088710068,\n        \"num_unique_values\": 1000,\n        \"samples\": [\n          152.04119412297098,\n          147.54391492523183,\n          168.8184130751253\n        ],\n        \"semantic_type\": \"\",\n        \"description\": \"\"\n      }\n    },\n    {\n      \"column\": \"Idade\",\n      \"properties\": {\n        \"dtype\": \"number\",\n        \"std\": 11,\n        \"min\": 30,\n        \"max\": 70,\n        \"num_unique_values\": 41,\n        \"samples\": [\n          30,\n          65,\n          57\n        ],\n        \"semantic_type\": \"\",\n        \"description\": \"\"\n      }\n    },\n    {\n      \"column\": \"Genero\",\n      \"properties\": {\n        \"dtype\": \"number\",\n        \"std\": 0,\n        \"min\": 0,\n        \"max\": 1,\n        \"num_unique_values\": 2,\n        \"samples\": [\n          0,\n          1\n        ],\n        \"semantic_type\": \"\",\n        \"description\": \"\"\n      }\n    },\n    {\n      \"column\": \"Etnia\",\n      \"properties\": {\n        \"dtype\": \"number\",\n        \"std\": 1,\n        \"min\": 0,\n        \"max\": 3,\n        \"num_unique_values\": 4,\n        \"samples\": [\n          3,\n          0\n        ],\n        \"semantic_type\": \"\",\n        \"description\": \"\"\n      }\n    },\n    {\n      \"column\": \"Estado_Saude\",\n      \"properties\": {\n        \"dtype\": \"number\",\n        \"std\": 0,\n        \"min\": 0,\n        \"max\": 1,\n        \"num_unique_values\": 2,\n        \"samples\": [\n          0,\n          1\n        ],\n        \"semantic_type\": \"\",\n        \"description\": \"\"\n      }\n    },\n    {\n      \"column\": \"Nome_Genero\",\n      \"properties\": {\n        \"dtype\": \"category\",\n        \"num_unique_values\": 2,\n        \"samples\": [\n          \"Masculino\",\n          \"Feminino\"\n        ],\n        \"semantic_type\": \"\",\n        \"description\": \"\"\n      }\n    },\n    {\n      \"column\": \"Nome_Etnia\",\n      \"properties\": {\n        \"dtype\": \"category\",\n        \"num_unique_values\": 4,\n        \"samples\": [\n          \"Asi\\u00e1tico\",\n          \"Caucasiano\"\n        ],\n        \"semantic_type\": \"\",\n        \"description\": \"\"\n      }\n    },\n    {\n      \"column\": \"Nome_Estado_Saude\",\n      \"properties\": {\n        \"dtype\": \"category\",\n        \"num_unique_values\": 2,\n        \"samples\": [\n          \"Saud\\u00e1vel\",\n          \"Com condi\\u00e7\\u00f5es de sa\\u00fade adicionais\"\n        ],\n        \"semantic_type\": \"\",\n        \"description\": \"\"\n      }\n    }\n  ]\n}"
            }
          },
          "metadata": {},
          "execution_count": 165
        }
      ]
    },
    {
      "cell_type": "code",
      "source": [
        "pacientes.describe()"
      ],
      "metadata": {
        "colab": {
          "base_uri": "https://localhost:8080/",
          "height": 300
        },
        "id": "pWp7vbubYdPR",
        "outputId": "9ba7717d-8b8f-403f-f375-6604307c6ba1"
      },
      "execution_count": 166,
      "outputs": [
        {
          "output_type": "execute_result",
          "data": {
            "text/plain": [
              "        Unnamed: 0  Pressao_Arterial        Idade       Genero        Etnia  \\\n",
              "count  1000.000000       1000.000000  1000.000000  1000.000000  1000.000000   \n",
              "mean    499.500000        150.375623    49.757000     0.503000     1.526000   \n",
              "std     288.819436          9.943613    11.682998     0.500241     1.104783   \n",
              "min       0.000000        112.929821    30.000000     0.000000     0.000000   \n",
              "25%     249.750000        144.240948    40.000000     0.000000     1.000000   \n",
              "50%     499.500000        150.455624    49.000000     1.000000     2.000000   \n",
              "75%     749.250000        156.792113    60.000000     1.000000     3.000000   \n",
              "max     999.000000        181.803131    70.000000     1.000000     3.000000   \n",
              "\n",
              "       Estado_Saude  \n",
              "count    1000.00000  \n",
              "mean        0.51000  \n",
              "std         0.50015  \n",
              "min         0.00000  \n",
              "25%         0.00000  \n",
              "50%         1.00000  \n",
              "75%         1.00000  \n",
              "max         1.00000  "
            ],
            "text/html": [
              "\n",
              "  <div id=\"df-cc21a2a7-3929-46b5-86a7-136bb025e65d\" class=\"colab-df-container\">\n",
              "    <div>\n",
              "<style scoped>\n",
              "    .dataframe tbody tr th:only-of-type {\n",
              "        vertical-align: middle;\n",
              "    }\n",
              "\n",
              "    .dataframe tbody tr th {\n",
              "        vertical-align: top;\n",
              "    }\n",
              "\n",
              "    .dataframe thead th {\n",
              "        text-align: right;\n",
              "    }\n",
              "</style>\n",
              "<table border=\"1\" class=\"dataframe\">\n",
              "  <thead>\n",
              "    <tr style=\"text-align: right;\">\n",
              "      <th></th>\n",
              "      <th>Unnamed: 0</th>\n",
              "      <th>Pressao_Arterial</th>\n",
              "      <th>Idade</th>\n",
              "      <th>Genero</th>\n",
              "      <th>Etnia</th>\n",
              "      <th>Estado_Saude</th>\n",
              "    </tr>\n",
              "  </thead>\n",
              "  <tbody>\n",
              "    <tr>\n",
              "      <th>count</th>\n",
              "      <td>1000.000000</td>\n",
              "      <td>1000.000000</td>\n",
              "      <td>1000.000000</td>\n",
              "      <td>1000.000000</td>\n",
              "      <td>1000.000000</td>\n",
              "      <td>1000.00000</td>\n",
              "    </tr>\n",
              "    <tr>\n",
              "      <th>mean</th>\n",
              "      <td>499.500000</td>\n",
              "      <td>150.375623</td>\n",
              "      <td>49.757000</td>\n",
              "      <td>0.503000</td>\n",
              "      <td>1.526000</td>\n",
              "      <td>0.51000</td>\n",
              "    </tr>\n",
              "    <tr>\n",
              "      <th>std</th>\n",
              "      <td>288.819436</td>\n",
              "      <td>9.943613</td>\n",
              "      <td>11.682998</td>\n",
              "      <td>0.500241</td>\n",
              "      <td>1.104783</td>\n",
              "      <td>0.50015</td>\n",
              "    </tr>\n",
              "    <tr>\n",
              "      <th>min</th>\n",
              "      <td>0.000000</td>\n",
              "      <td>112.929821</td>\n",
              "      <td>30.000000</td>\n",
              "      <td>0.000000</td>\n",
              "      <td>0.000000</td>\n",
              "      <td>0.00000</td>\n",
              "    </tr>\n",
              "    <tr>\n",
              "      <th>25%</th>\n",
              "      <td>249.750000</td>\n",
              "      <td>144.240948</td>\n",
              "      <td>40.000000</td>\n",
              "      <td>0.000000</td>\n",
              "      <td>1.000000</td>\n",
              "      <td>0.00000</td>\n",
              "    </tr>\n",
              "    <tr>\n",
              "      <th>50%</th>\n",
              "      <td>499.500000</td>\n",
              "      <td>150.455624</td>\n",
              "      <td>49.000000</td>\n",
              "      <td>1.000000</td>\n",
              "      <td>2.000000</td>\n",
              "      <td>1.00000</td>\n",
              "    </tr>\n",
              "    <tr>\n",
              "      <th>75%</th>\n",
              "      <td>749.250000</td>\n",
              "      <td>156.792113</td>\n",
              "      <td>60.000000</td>\n",
              "      <td>1.000000</td>\n",
              "      <td>3.000000</td>\n",
              "      <td>1.00000</td>\n",
              "    </tr>\n",
              "    <tr>\n",
              "      <th>max</th>\n",
              "      <td>999.000000</td>\n",
              "      <td>181.803131</td>\n",
              "      <td>70.000000</td>\n",
              "      <td>1.000000</td>\n",
              "      <td>3.000000</td>\n",
              "      <td>1.00000</td>\n",
              "    </tr>\n",
              "  </tbody>\n",
              "</table>\n",
              "</div>\n",
              "    <div class=\"colab-df-buttons\">\n",
              "\n",
              "  <div class=\"colab-df-container\">\n",
              "    <button class=\"colab-df-convert\" onclick=\"convertToInteractive('df-cc21a2a7-3929-46b5-86a7-136bb025e65d')\"\n",
              "            title=\"Convert this dataframe to an interactive table.\"\n",
              "            style=\"display:none;\">\n",
              "\n",
              "  <svg xmlns=\"http://www.w3.org/2000/svg\" height=\"24px\" viewBox=\"0 -960 960 960\">\n",
              "    <path d=\"M120-120v-720h720v720H120Zm60-500h600v-160H180v160Zm220 220h160v-160H400v160Zm0 220h160v-160H400v160ZM180-400h160v-160H180v160Zm440 0h160v-160H620v160ZM180-180h160v-160H180v160Zm440 0h160v-160H620v160Z\"/>\n",
              "  </svg>\n",
              "    </button>\n",
              "\n",
              "  <style>\n",
              "    .colab-df-container {\n",
              "      display:flex;\n",
              "      gap: 12px;\n",
              "    }\n",
              "\n",
              "    .colab-df-convert {\n",
              "      background-color: #E8F0FE;\n",
              "      border: none;\n",
              "      border-radius: 50%;\n",
              "      cursor: pointer;\n",
              "      display: none;\n",
              "      fill: #1967D2;\n",
              "      height: 32px;\n",
              "      padding: 0 0 0 0;\n",
              "      width: 32px;\n",
              "    }\n",
              "\n",
              "    .colab-df-convert:hover {\n",
              "      background-color: #E2EBFA;\n",
              "      box-shadow: 0px 1px 2px rgba(60, 64, 67, 0.3), 0px 1px 3px 1px rgba(60, 64, 67, 0.15);\n",
              "      fill: #174EA6;\n",
              "    }\n",
              "\n",
              "    .colab-df-buttons div {\n",
              "      margin-bottom: 4px;\n",
              "    }\n",
              "\n",
              "    [theme=dark] .colab-df-convert {\n",
              "      background-color: #3B4455;\n",
              "      fill: #D2E3FC;\n",
              "    }\n",
              "\n",
              "    [theme=dark] .colab-df-convert:hover {\n",
              "      background-color: #434B5C;\n",
              "      box-shadow: 0px 1px 3px 1px rgba(0, 0, 0, 0.15);\n",
              "      filter: drop-shadow(0px 1px 2px rgba(0, 0, 0, 0.3));\n",
              "      fill: #FFFFFF;\n",
              "    }\n",
              "  </style>\n",
              "\n",
              "    <script>\n",
              "      const buttonEl =\n",
              "        document.querySelector('#df-cc21a2a7-3929-46b5-86a7-136bb025e65d button.colab-df-convert');\n",
              "      buttonEl.style.display =\n",
              "        google.colab.kernel.accessAllowed ? 'block' : 'none';\n",
              "\n",
              "      async function convertToInteractive(key) {\n",
              "        const element = document.querySelector('#df-cc21a2a7-3929-46b5-86a7-136bb025e65d');\n",
              "        const dataTable =\n",
              "          await google.colab.kernel.invokeFunction('convertToInteractive',\n",
              "                                                    [key], {});\n",
              "        if (!dataTable) return;\n",
              "\n",
              "        const docLinkHtml = 'Like what you see? Visit the ' +\n",
              "          '<a target=\"_blank\" href=https://colab.research.google.com/notebooks/data_table.ipynb>data table notebook</a>'\n",
              "          + ' to learn more about interactive tables.';\n",
              "        element.innerHTML = '';\n",
              "        dataTable['output_type'] = 'display_data';\n",
              "        await google.colab.output.renderOutput(dataTable, element);\n",
              "        const docLink = document.createElement('div');\n",
              "        docLink.innerHTML = docLinkHtml;\n",
              "        element.appendChild(docLink);\n",
              "      }\n",
              "    </script>\n",
              "  </div>\n",
              "\n",
              "\n",
              "    <div id=\"df-b46b04e1-a07c-4bc1-b303-b4278efda361\">\n",
              "      <button class=\"colab-df-quickchart\" onclick=\"quickchart('df-b46b04e1-a07c-4bc1-b303-b4278efda361')\"\n",
              "                title=\"Suggest charts\"\n",
              "                style=\"display:none;\">\n",
              "\n",
              "<svg xmlns=\"http://www.w3.org/2000/svg\" height=\"24px\"viewBox=\"0 0 24 24\"\n",
              "     width=\"24px\">\n",
              "    <g>\n",
              "        <path d=\"M19 3H5c-1.1 0-2 .9-2 2v14c0 1.1.9 2 2 2h14c1.1 0 2-.9 2-2V5c0-1.1-.9-2-2-2zM9 17H7v-7h2v7zm4 0h-2V7h2v10zm4 0h-2v-4h2v4z\"/>\n",
              "    </g>\n",
              "</svg>\n",
              "      </button>\n",
              "\n",
              "<style>\n",
              "  .colab-df-quickchart {\n",
              "      --bg-color: #E8F0FE;\n",
              "      --fill-color: #1967D2;\n",
              "      --hover-bg-color: #E2EBFA;\n",
              "      --hover-fill-color: #174EA6;\n",
              "      --disabled-fill-color: #AAA;\n",
              "      --disabled-bg-color: #DDD;\n",
              "  }\n",
              "\n",
              "  [theme=dark] .colab-df-quickchart {\n",
              "      --bg-color: #3B4455;\n",
              "      --fill-color: #D2E3FC;\n",
              "      --hover-bg-color: #434B5C;\n",
              "      --hover-fill-color: #FFFFFF;\n",
              "      --disabled-bg-color: #3B4455;\n",
              "      --disabled-fill-color: #666;\n",
              "  }\n",
              "\n",
              "  .colab-df-quickchart {\n",
              "    background-color: var(--bg-color);\n",
              "    border: none;\n",
              "    border-radius: 50%;\n",
              "    cursor: pointer;\n",
              "    display: none;\n",
              "    fill: var(--fill-color);\n",
              "    height: 32px;\n",
              "    padding: 0;\n",
              "    width: 32px;\n",
              "  }\n",
              "\n",
              "  .colab-df-quickchart:hover {\n",
              "    background-color: var(--hover-bg-color);\n",
              "    box-shadow: 0 1px 2px rgba(60, 64, 67, 0.3), 0 1px 3px 1px rgba(60, 64, 67, 0.15);\n",
              "    fill: var(--button-hover-fill-color);\n",
              "  }\n",
              "\n",
              "  .colab-df-quickchart-complete:disabled,\n",
              "  .colab-df-quickchart-complete:disabled:hover {\n",
              "    background-color: var(--disabled-bg-color);\n",
              "    fill: var(--disabled-fill-color);\n",
              "    box-shadow: none;\n",
              "  }\n",
              "\n",
              "  .colab-df-spinner {\n",
              "    border: 2px solid var(--fill-color);\n",
              "    border-color: transparent;\n",
              "    border-bottom-color: var(--fill-color);\n",
              "    animation:\n",
              "      spin 1s steps(1) infinite;\n",
              "  }\n",
              "\n",
              "  @keyframes spin {\n",
              "    0% {\n",
              "      border-color: transparent;\n",
              "      border-bottom-color: var(--fill-color);\n",
              "      border-left-color: var(--fill-color);\n",
              "    }\n",
              "    20% {\n",
              "      border-color: transparent;\n",
              "      border-left-color: var(--fill-color);\n",
              "      border-top-color: var(--fill-color);\n",
              "    }\n",
              "    30% {\n",
              "      border-color: transparent;\n",
              "      border-left-color: var(--fill-color);\n",
              "      border-top-color: var(--fill-color);\n",
              "      border-right-color: var(--fill-color);\n",
              "    }\n",
              "    40% {\n",
              "      border-color: transparent;\n",
              "      border-right-color: var(--fill-color);\n",
              "      border-top-color: var(--fill-color);\n",
              "    }\n",
              "    60% {\n",
              "      border-color: transparent;\n",
              "      border-right-color: var(--fill-color);\n",
              "    }\n",
              "    80% {\n",
              "      border-color: transparent;\n",
              "      border-right-color: var(--fill-color);\n",
              "      border-bottom-color: var(--fill-color);\n",
              "    }\n",
              "    90% {\n",
              "      border-color: transparent;\n",
              "      border-bottom-color: var(--fill-color);\n",
              "    }\n",
              "  }\n",
              "</style>\n",
              "\n",
              "      <script>\n",
              "        async function quickchart(key) {\n",
              "          const quickchartButtonEl =\n",
              "            document.querySelector('#' + key + ' button');\n",
              "          quickchartButtonEl.disabled = true;  // To prevent multiple clicks.\n",
              "          quickchartButtonEl.classList.add('colab-df-spinner');\n",
              "          try {\n",
              "            const charts = await google.colab.kernel.invokeFunction(\n",
              "                'suggestCharts', [key], {});\n",
              "          } catch (error) {\n",
              "            console.error('Error during call to suggestCharts:', error);\n",
              "          }\n",
              "          quickchartButtonEl.classList.remove('colab-df-spinner');\n",
              "          quickchartButtonEl.classList.add('colab-df-quickchart-complete');\n",
              "        }\n",
              "        (() => {\n",
              "          let quickchartButtonEl =\n",
              "            document.querySelector('#df-b46b04e1-a07c-4bc1-b303-b4278efda361 button');\n",
              "          quickchartButtonEl.style.display =\n",
              "            google.colab.kernel.accessAllowed ? 'block' : 'none';\n",
              "        })();\n",
              "      </script>\n",
              "    </div>\n",
              "\n",
              "    </div>\n",
              "  </div>\n"
            ],
            "application/vnd.google.colaboratory.intrinsic+json": {
              "type": "dataframe",
              "summary": "{\n  \"name\": \"pacientes\",\n  \"rows\": 8,\n  \"fields\": [\n    {\n      \"column\": \"Unnamed: 0\",\n      \"properties\": {\n        \"dtype\": \"number\",\n        \"std\": 360.1860157939537,\n        \"min\": 0.0,\n        \"max\": 1000.0,\n        \"num_unique_values\": 7,\n        \"samples\": [\n          1000.0,\n          499.5,\n          749.25\n        ],\n        \"semantic_type\": \"\",\n        \"description\": \"\"\n      }\n    },\n    {\n      \"column\": \"Pressao_Arterial\",\n      \"properties\": {\n        \"dtype\": \"number\",\n        \"std\": 312.17693628228164,\n        \"min\": 9.943612581359616,\n        \"max\": 1000.0,\n        \"num_unique_values\": 8,\n        \"samples\": [\n          150.37562261552253,\n          150.45562389214672,\n          1000.0\n        ],\n        \"semantic_type\": \"\",\n        \"description\": \"\"\n      }\n    },\n    {\n      \"column\": \"Idade\",\n      \"properties\": {\n        \"dtype\": \"number\",\n        \"std\": 338.3482204414311,\n        \"min\": 11.682998050305553,\n        \"max\": 1000.0,\n        \"num_unique_values\": 8,\n        \"samples\": [\n          49.757,\n          49.0,\n          1000.0\n        ],\n        \"semantic_type\": \"\",\n        \"description\": \"\"\n      }\n    },\n    {\n      \"column\": \"Genero\",\n      \"properties\": {\n        \"dtype\": \"number\",\n        \"std\": 353.3514417508797,\n        \"min\": 0.0,\n        \"max\": 1000.0,\n        \"num_unique_values\": 5,\n        \"samples\": [\n          0.503,\n          1.0,\n          0.5002411830719641\n        ],\n        \"semantic_type\": \"\",\n        \"description\": \"\"\n      }\n    },\n    {\n      \"column\": \"Etnia\",\n      \"properties\": {\n        \"dtype\": \"number\",\n        \"std\": 352.96740929847385,\n        \"min\": 0.0,\n        \"max\": 1000.0,\n        \"num_unique_values\": 7,\n        \"samples\": [\n          1000.0,\n          1.526,\n          2.0\n        ],\n        \"semantic_type\": \"\",\n        \"description\": \"\"\n      }\n    },\n    {\n      \"column\": \"Estado_Saude\",\n      \"properties\": {\n        \"dtype\": \"number\",\n        \"std\": 353.3510926129262,\n        \"min\": 0.0,\n        \"max\": 1000.0,\n        \"num_unique_values\": 5,\n        \"samples\": [\n          0.51,\n          1.0,\n          0.5001501276118508\n        ],\n        \"semantic_type\": \"\",\n        \"description\": \"\"\n      }\n    }\n  ]\n}"
            }
          },
          "metadata": {},
          "execution_count": 166
        }
      ]
    },
    {
      "cell_type": "code",
      "source": [
        "pacientes.describe(include=['object'])"
      ],
      "metadata": {
        "colab": {
          "base_uri": "https://localhost:8080/",
          "height": 175
        },
        "id": "6Czq7pYHdhLw",
        "outputId": "cf0a0e64-74f1-4276-925e-9d36d14fbeb5"
      },
      "execution_count": 167,
      "outputs": [
        {
          "output_type": "execute_result",
          "data": {
            "text/plain": [
              "       Nome_Genero      Nome_Etnia                  Nome_Estado_Saude\n",
              "count         1000            1000                               1000\n",
              "unique           2               4                                  2\n",
              "top       Feminino  Afro-americano  Com condições de saúde adicionais\n",
              "freq           503             260                                510"
            ],
            "text/html": [
              "\n",
              "  <div id=\"df-3155c949-3328-4424-9a89-956832c5e300\" class=\"colab-df-container\">\n",
              "    <div>\n",
              "<style scoped>\n",
              "    .dataframe tbody tr th:only-of-type {\n",
              "        vertical-align: middle;\n",
              "    }\n",
              "\n",
              "    .dataframe tbody tr th {\n",
              "        vertical-align: top;\n",
              "    }\n",
              "\n",
              "    .dataframe thead th {\n",
              "        text-align: right;\n",
              "    }\n",
              "</style>\n",
              "<table border=\"1\" class=\"dataframe\">\n",
              "  <thead>\n",
              "    <tr style=\"text-align: right;\">\n",
              "      <th></th>\n",
              "      <th>Nome_Genero</th>\n",
              "      <th>Nome_Etnia</th>\n",
              "      <th>Nome_Estado_Saude</th>\n",
              "    </tr>\n",
              "  </thead>\n",
              "  <tbody>\n",
              "    <tr>\n",
              "      <th>count</th>\n",
              "      <td>1000</td>\n",
              "      <td>1000</td>\n",
              "      <td>1000</td>\n",
              "    </tr>\n",
              "    <tr>\n",
              "      <th>unique</th>\n",
              "      <td>2</td>\n",
              "      <td>4</td>\n",
              "      <td>2</td>\n",
              "    </tr>\n",
              "    <tr>\n",
              "      <th>top</th>\n",
              "      <td>Feminino</td>\n",
              "      <td>Afro-americano</td>\n",
              "      <td>Com condições de saúde adicionais</td>\n",
              "    </tr>\n",
              "    <tr>\n",
              "      <th>freq</th>\n",
              "      <td>503</td>\n",
              "      <td>260</td>\n",
              "      <td>510</td>\n",
              "    </tr>\n",
              "  </tbody>\n",
              "</table>\n",
              "</div>\n",
              "    <div class=\"colab-df-buttons\">\n",
              "\n",
              "  <div class=\"colab-df-container\">\n",
              "    <button class=\"colab-df-convert\" onclick=\"convertToInteractive('df-3155c949-3328-4424-9a89-956832c5e300')\"\n",
              "            title=\"Convert this dataframe to an interactive table.\"\n",
              "            style=\"display:none;\">\n",
              "\n",
              "  <svg xmlns=\"http://www.w3.org/2000/svg\" height=\"24px\" viewBox=\"0 -960 960 960\">\n",
              "    <path d=\"M120-120v-720h720v720H120Zm60-500h600v-160H180v160Zm220 220h160v-160H400v160Zm0 220h160v-160H400v160ZM180-400h160v-160H180v160Zm440 0h160v-160H620v160ZM180-180h160v-160H180v160Zm440 0h160v-160H620v160Z\"/>\n",
              "  </svg>\n",
              "    </button>\n",
              "\n",
              "  <style>\n",
              "    .colab-df-container {\n",
              "      display:flex;\n",
              "      gap: 12px;\n",
              "    }\n",
              "\n",
              "    .colab-df-convert {\n",
              "      background-color: #E8F0FE;\n",
              "      border: none;\n",
              "      border-radius: 50%;\n",
              "      cursor: pointer;\n",
              "      display: none;\n",
              "      fill: #1967D2;\n",
              "      height: 32px;\n",
              "      padding: 0 0 0 0;\n",
              "      width: 32px;\n",
              "    }\n",
              "\n",
              "    .colab-df-convert:hover {\n",
              "      background-color: #E2EBFA;\n",
              "      box-shadow: 0px 1px 2px rgba(60, 64, 67, 0.3), 0px 1px 3px 1px rgba(60, 64, 67, 0.15);\n",
              "      fill: #174EA6;\n",
              "    }\n",
              "\n",
              "    .colab-df-buttons div {\n",
              "      margin-bottom: 4px;\n",
              "    }\n",
              "\n",
              "    [theme=dark] .colab-df-convert {\n",
              "      background-color: #3B4455;\n",
              "      fill: #D2E3FC;\n",
              "    }\n",
              "\n",
              "    [theme=dark] .colab-df-convert:hover {\n",
              "      background-color: #434B5C;\n",
              "      box-shadow: 0px 1px 3px 1px rgba(0, 0, 0, 0.15);\n",
              "      filter: drop-shadow(0px 1px 2px rgba(0, 0, 0, 0.3));\n",
              "      fill: #FFFFFF;\n",
              "    }\n",
              "  </style>\n",
              "\n",
              "    <script>\n",
              "      const buttonEl =\n",
              "        document.querySelector('#df-3155c949-3328-4424-9a89-956832c5e300 button.colab-df-convert');\n",
              "      buttonEl.style.display =\n",
              "        google.colab.kernel.accessAllowed ? 'block' : 'none';\n",
              "\n",
              "      async function convertToInteractive(key) {\n",
              "        const element = document.querySelector('#df-3155c949-3328-4424-9a89-956832c5e300');\n",
              "        const dataTable =\n",
              "          await google.colab.kernel.invokeFunction('convertToInteractive',\n",
              "                                                    [key], {});\n",
              "        if (!dataTable) return;\n",
              "\n",
              "        const docLinkHtml = 'Like what you see? Visit the ' +\n",
              "          '<a target=\"_blank\" href=https://colab.research.google.com/notebooks/data_table.ipynb>data table notebook</a>'\n",
              "          + ' to learn more about interactive tables.';\n",
              "        element.innerHTML = '';\n",
              "        dataTable['output_type'] = 'display_data';\n",
              "        await google.colab.output.renderOutput(dataTable, element);\n",
              "        const docLink = document.createElement('div');\n",
              "        docLink.innerHTML = docLinkHtml;\n",
              "        element.appendChild(docLink);\n",
              "      }\n",
              "    </script>\n",
              "  </div>\n",
              "\n",
              "\n",
              "    <div id=\"df-e1fd797c-272c-45e7-b1ea-51b6bffb3372\">\n",
              "      <button class=\"colab-df-quickchart\" onclick=\"quickchart('df-e1fd797c-272c-45e7-b1ea-51b6bffb3372')\"\n",
              "                title=\"Suggest charts\"\n",
              "                style=\"display:none;\">\n",
              "\n",
              "<svg xmlns=\"http://www.w3.org/2000/svg\" height=\"24px\"viewBox=\"0 0 24 24\"\n",
              "     width=\"24px\">\n",
              "    <g>\n",
              "        <path d=\"M19 3H5c-1.1 0-2 .9-2 2v14c0 1.1.9 2 2 2h14c1.1 0 2-.9 2-2V5c0-1.1-.9-2-2-2zM9 17H7v-7h2v7zm4 0h-2V7h2v10zm4 0h-2v-4h2v4z\"/>\n",
              "    </g>\n",
              "</svg>\n",
              "      </button>\n",
              "\n",
              "<style>\n",
              "  .colab-df-quickchart {\n",
              "      --bg-color: #E8F0FE;\n",
              "      --fill-color: #1967D2;\n",
              "      --hover-bg-color: #E2EBFA;\n",
              "      --hover-fill-color: #174EA6;\n",
              "      --disabled-fill-color: #AAA;\n",
              "      --disabled-bg-color: #DDD;\n",
              "  }\n",
              "\n",
              "  [theme=dark] .colab-df-quickchart {\n",
              "      --bg-color: #3B4455;\n",
              "      --fill-color: #D2E3FC;\n",
              "      --hover-bg-color: #434B5C;\n",
              "      --hover-fill-color: #FFFFFF;\n",
              "      --disabled-bg-color: #3B4455;\n",
              "      --disabled-fill-color: #666;\n",
              "  }\n",
              "\n",
              "  .colab-df-quickchart {\n",
              "    background-color: var(--bg-color);\n",
              "    border: none;\n",
              "    border-radius: 50%;\n",
              "    cursor: pointer;\n",
              "    display: none;\n",
              "    fill: var(--fill-color);\n",
              "    height: 32px;\n",
              "    padding: 0;\n",
              "    width: 32px;\n",
              "  }\n",
              "\n",
              "  .colab-df-quickchart:hover {\n",
              "    background-color: var(--hover-bg-color);\n",
              "    box-shadow: 0 1px 2px rgba(60, 64, 67, 0.3), 0 1px 3px 1px rgba(60, 64, 67, 0.15);\n",
              "    fill: var(--button-hover-fill-color);\n",
              "  }\n",
              "\n",
              "  .colab-df-quickchart-complete:disabled,\n",
              "  .colab-df-quickchart-complete:disabled:hover {\n",
              "    background-color: var(--disabled-bg-color);\n",
              "    fill: var(--disabled-fill-color);\n",
              "    box-shadow: none;\n",
              "  }\n",
              "\n",
              "  .colab-df-spinner {\n",
              "    border: 2px solid var(--fill-color);\n",
              "    border-color: transparent;\n",
              "    border-bottom-color: var(--fill-color);\n",
              "    animation:\n",
              "      spin 1s steps(1) infinite;\n",
              "  }\n",
              "\n",
              "  @keyframes spin {\n",
              "    0% {\n",
              "      border-color: transparent;\n",
              "      border-bottom-color: var(--fill-color);\n",
              "      border-left-color: var(--fill-color);\n",
              "    }\n",
              "    20% {\n",
              "      border-color: transparent;\n",
              "      border-left-color: var(--fill-color);\n",
              "      border-top-color: var(--fill-color);\n",
              "    }\n",
              "    30% {\n",
              "      border-color: transparent;\n",
              "      border-left-color: var(--fill-color);\n",
              "      border-top-color: var(--fill-color);\n",
              "      border-right-color: var(--fill-color);\n",
              "    }\n",
              "    40% {\n",
              "      border-color: transparent;\n",
              "      border-right-color: var(--fill-color);\n",
              "      border-top-color: var(--fill-color);\n",
              "    }\n",
              "    60% {\n",
              "      border-color: transparent;\n",
              "      border-right-color: var(--fill-color);\n",
              "    }\n",
              "    80% {\n",
              "      border-color: transparent;\n",
              "      border-right-color: var(--fill-color);\n",
              "      border-bottom-color: var(--fill-color);\n",
              "    }\n",
              "    90% {\n",
              "      border-color: transparent;\n",
              "      border-bottom-color: var(--fill-color);\n",
              "    }\n",
              "  }\n",
              "</style>\n",
              "\n",
              "      <script>\n",
              "        async function quickchart(key) {\n",
              "          const quickchartButtonEl =\n",
              "            document.querySelector('#' + key + ' button');\n",
              "          quickchartButtonEl.disabled = true;  // To prevent multiple clicks.\n",
              "          quickchartButtonEl.classList.add('colab-df-spinner');\n",
              "          try {\n",
              "            const charts = await google.colab.kernel.invokeFunction(\n",
              "                'suggestCharts', [key], {});\n",
              "          } catch (error) {\n",
              "            console.error('Error during call to suggestCharts:', error);\n",
              "          }\n",
              "          quickchartButtonEl.classList.remove('colab-df-spinner');\n",
              "          quickchartButtonEl.classList.add('colab-df-quickchart-complete');\n",
              "        }\n",
              "        (() => {\n",
              "          let quickchartButtonEl =\n",
              "            document.querySelector('#df-e1fd797c-272c-45e7-b1ea-51b6bffb3372 button');\n",
              "          quickchartButtonEl.style.display =\n",
              "            google.colab.kernel.accessAllowed ? 'block' : 'none';\n",
              "        })();\n",
              "      </script>\n",
              "    </div>\n",
              "\n",
              "    </div>\n",
              "  </div>\n"
            ],
            "application/vnd.google.colaboratory.intrinsic+json": {
              "type": "dataframe",
              "summary": "{\n  \"name\": \"pacientes\",\n  \"rows\": 4,\n  \"fields\": [\n    {\n      \"column\": \"Nome_Genero\",\n      \"properties\": {\n        \"dtype\": \"string\",\n        \"num_unique_values\": 4,\n        \"samples\": [\n          2,\n          \"503\",\n          \"1000\"\n        ],\n        \"semantic_type\": \"\",\n        \"description\": \"\"\n      }\n    },\n    {\n      \"column\": \"Nome_Etnia\",\n      \"properties\": {\n        \"dtype\": \"string\",\n        \"num_unique_values\": 4,\n        \"samples\": [\n          4,\n          \"260\",\n          \"1000\"\n        ],\n        \"semantic_type\": \"\",\n        \"description\": \"\"\n      }\n    },\n    {\n      \"column\": \"Nome_Estado_Saude\",\n      \"properties\": {\n        \"dtype\": \"string\",\n        \"num_unique_values\": 4,\n        \"samples\": [\n          2,\n          \"510\",\n          \"1000\"\n        ],\n        \"semantic_type\": \"\",\n        \"description\": \"\"\n      }\n    }\n  ]\n}"
            }
          },
          "metadata": {},
          "execution_count": 167
        }
      ]
    },
    {
      "cell_type": "code",
      "source": [
        "pacientes.info()"
      ],
      "metadata": {
        "colab": {
          "base_uri": "https://localhost:8080/"
        },
        "id": "-0KDpkShYiaC",
        "outputId": "86ffcfda-cdbf-49d2-c3f0-c3c5361b1889"
      },
      "execution_count": 168,
      "outputs": [
        {
          "output_type": "stream",
          "name": "stdout",
          "text": [
            "<class 'pandas.core.frame.DataFrame'>\n",
            "RangeIndex: 1000 entries, 0 to 999\n",
            "Data columns (total 9 columns):\n",
            " #   Column             Non-Null Count  Dtype  \n",
            "---  ------             --------------  -----  \n",
            " 0   Unnamed: 0         1000 non-null   int64  \n",
            " 1   Pressao_Arterial   1000 non-null   float64\n",
            " 2   Idade              1000 non-null   int64  \n",
            " 3   Genero             1000 non-null   int64  \n",
            " 4   Etnia              1000 non-null   int64  \n",
            " 5   Estado_Saude       1000 non-null   int64  \n",
            " 6   Nome_Genero        1000 non-null   object \n",
            " 7   Nome_Etnia         1000 non-null   object \n",
            " 8   Nome_Estado_Saude  1000 non-null   object \n",
            "dtypes: float64(1), int64(5), object(3)\n",
            "memory usage: 70.4+ KB\n"
          ]
        }
      ]
    },
    {
      "cell_type": "code",
      "source": [
        "# Verifica valores únicos das variáveis categóricas\n",
        "for column in pacientes.select_dtypes(include=['object']).columns:\n",
        "  unique_values = pacientes[column].unique()\n",
        "  print(f\"Valores únicos da coluna {column}: {unique_values}\")"
      ],
      "metadata": {
        "colab": {
          "base_uri": "https://localhost:8080/"
        },
        "id": "TjFy09tlgSD0",
        "outputId": "5fa35762-4571-407d-f620-26f5c6084538"
      },
      "execution_count": 169,
      "outputs": [
        {
          "output_type": "stream",
          "name": "stdout",
          "text": [
            "Valores únicos da coluna Nome_Genero: ['Feminino' 'Masculino']\n",
            "Valores únicos da coluna Nome_Etnia: ['Afro-americano' 'Asiático' 'Hispânico' 'Caucasiano']\n",
            "Valores únicos da coluna Nome_Estado_Saude: ['Com condições de saúde adicionais' 'Saudável']\n"
          ]
        }
      ]
    },
    {
      "cell_type": "code",
      "source": [
        "# Histogramas e boxplots\n",
        "categorias = {'Pressao_Arterial': 'Pressão Arterial',\n",
        "              'Idade': 'Idade'}\n",
        "\n",
        "plt.figure(figsize=(15, 8))\n",
        "sns.set_theme(style='whitegrid')\n",
        "\n",
        "for i, (coluna, nome) in enumerate(categorias.items(), 1):\n",
        "  # Histograma\n",
        "  plt.subplot(2, 2, 2*i-1)\n",
        "  sns.histplot(pacientes[coluna], kde=True, color='#0f7937')\n",
        "  plt.title(f'Histograma de {nome}')\n",
        "  plt.xlabel(nome)\n",
        "  plt.ylabel('Densidade')\n",
        "\n",
        "  # Boxplot\n",
        "  plt.subplot(2, 2, 2*i)\n",
        "  sns.boxplot(data=pacientes, x=coluna, color='#0f7937')\n",
        "  plt.title(f'Boxplot de {nome}')\n",
        "  plt.ylabel(nome)\n",
        "\n",
        "plt.tight_layout()\n",
        "plt.show()\n",
        "plt.savefig('histograma_boxplot_pressao_arterial.png')"
      ],
      "metadata": {
        "colab": {
          "base_uri": "https://localhost:8080/",
          "height": 762
        },
        "id": "Bt1jfOmQgjkU",
        "outputId": "a55be296-ba15-4591-d48e-39f31ec05477"
      },
      "execution_count": 170,
      "outputs": [
        {
          "output_type": "display_data",
          "data": {
            "text/plain": [
              "<Figure size 1500x800 with 4 Axes>"
            ],
            "image/png": "[encoded data removed]"
          },
          "metadata": {}
        },
        {
          "output_type": "display_data",
          "data": {
            "text/plain": [
              "<Figure size 640x480 with 0 Axes>"
            ]
          },
          "metadata": {}
        }
      ]
    },
    {
      "cell_type": "code",
      "source": [
        "# Gráficos de Barras\n",
        "categorias = {'Nome_Genero': 'Gênero',\n",
        "              'Nome_Etnia': 'Etnia',\n",
        "              'Nome_Estado_Saude': 'Estado de Saúde'}\n",
        "\n",
        "sns.set_theme(style='whitegrid')\n",
        "plt.figure(figsize=(15, 5))\n",
        "\n",
        "for i, coluna in enumerate(categorias.items(), 1):\n",
        "  plt.subplot(1, 3, i)\n",
        "  sns.barplot(x=pacientes[coluna[0]].value_counts().index,\n",
        "              y=pacientes[coluna[0]].value_counts(),\n",
        "              hue=pacientes[coluna[0]].value_counts().index,\n",
        "              width=0.5,\n",
        "              palette=\"BuGn_r\")\n",
        "  # Título\n",
        "  plt.title(f'Distribuição de {coluna[1]}')\n",
        "  plt.xlabel(coluna[1])\n",
        "  plt.ylabel('Contagem')\n",
        "  plt.ylim(0, pacientes[coluna[0]].value_counts().max() * 1.5)\n",
        "\n",
        "  # Valores em cima das barras\n",
        "  for index, value in enumerate(pacientes[coluna[0]].value_counts()):\n",
        "    plt.text(index, value, str(value), ha='center', va='bottom')\n",
        "\n",
        "plt.tight_layout()\n",
        "plt.show()\n",
        "plt.savefig('distribuicao_gen_etnia_saude.png')"
      ],
      "metadata": {
        "colab": {
          "base_uri": "https://localhost:8080/",
          "height": 484
        },
        "id": "4as2o3Pbhr2v",
        "outputId": "6d002685-2112-4694-891e-49f83630306b"
      },
      "execution_count": 171,
      "outputs": [
        {
          "output_type": "display_data",
          "data": {
            "text/plain": [
              "<Figure size 1500x500 with 3 Axes>"
            ],
            "image/png": "[encoded data removed]"
          },
          "metadata": {}
        },
        {
          "output_type": "display_data",
          "data": {
            "text/plain": [
              "<Figure size 640x480 with 0 Axes>"
            ]
          },
          "metadata": {}
        }
      ]
    },
    {
      "cell_type": "markdown",
      "source": [
        "####Verifique a base  `pacientes.csv` (os dados são fictícios). Ao sintetizar uma base de dados de um hospital que trata de pacientes com problemas cardíacos e  considerando a mesma base como a população, concluí-se que as estatísticas da população são conhecidas. Responda as perguntas abaixo:"
      ],
      "metadata": {
        "id": "ZOeqjm5PX7VO"
      }
    },
    {
      "cell_type": "markdown",
      "source": [
        "Ao longo das análises o teste t foi escolhido por se tratar da ferramenta estatística  mais adequada para amostras independentes, ele ajuda a determinar se a diferença observada nas médias das amostras é estatisticamente significativa ou se poderia ter ocorrido por acaso."
      ],
      "metadata": {
        "id": "kAUlzHe-e0AA"
      }
    },
    {
      "cell_type": "markdown",
      "source": [
        "#####3.Considerando uma amostra de 45 números que representam o index do dataframe, `índices= ([909, 751, 402, 400, 726, 39, 184, 269, 255, 769,209, 715, 677, 381, 793, 697, 89, 280, 232, 756, 358, 36, 439, 768, 967,699, 473, 222, 89, 639, 883, 558, 757, 84, 907, 895, 217, 224, 311, 348,146, 505, 273, 957, 362]`). Considerando essa amostra é possível dizer que a idade média das pessoas com problemas cardíacos é maior que 50 anos? Nível de significância igual a 5%."
      ],
      "metadata": {
        "id": "jO7c_SL8ZtFT"
      }
    },
    {
      "cell_type": "code",
      "source": [
        "# Índices da amostra\n",
        "indices = [909, 751, 402, 400, 726,  39, 184, 269, 255, 769, 209, 715, 677, 381,\n",
        "           793, 697,  89, 280, 232, 756, 358,  36, 439, 768, 967, 699, 473, 222,\n",
        "            89, 639, 883, 558, 757,  84, 907, 895, 217, 224, 311, 348, 146, 505,\n",
        "           273, 957, 362]\n",
        "\n",
        "# Selecionando a amostra do dataframe\n",
        "df_amostra = pacientes.loc[indices].sort_index()\n",
        "\n",
        "# Filtrando pela coluna Idade\n",
        "amostra_idade = df_amostra['Idade']\n",
        "\n",
        "# Aplicando teste t-Student\n",
        "teste_t, p_valor = stat.ttest_1samp(amostra_idade, 50)\n",
        "\n",
        "# Definindo o nível de significância (alpha)\n",
        "alpha = 0.05\n",
        "\n",
        "# Comparando o p-valor com alpha\n",
        "if p_valor < alpha:\n",
        "  conclusao = (\"Rejeitamos a hipótese nula.\\n\" +\n",
        "               \"Podemos concluir que a média de idade das pessoas com problemas cardíacos é superior a 50 anos.\\n\")\n",
        "else:\n",
        "  conclusao = (\"Não rejeitamos a hipótese nula.\\n\" +\n",
        "               \"Não há evidências suficientes para concluir que a média de idade das pessoas com problemas cardíacos é superior a 50 anos.\\n\")\n",
        "\n",
        "# Resultados\n",
        "print(f\"Conclusão: {conclusao}\\np-valor: {round(p_valor, 2)}\")"
      ],
      "metadata": {
        "colab": {
          "base_uri": "https://localhost:8080/"
        },
        "id": "1JLf8PMfaBDY",
        "outputId": "ff40a6ef-7146-4158-b50a-7cd9c82d2466"
      },
      "execution_count": 172,
      "outputs": [
        {
          "output_type": "stream",
          "name": "stdout",
          "text": [
            "Conclusão: Não rejeitamos a hipótese nula.\n",
            "Não há evidências suficientes para concluir que a média de idade das pessoas com problemas cardíacos é superior a 50 anos.\n",
            "\n",
            "p-valor: 0.96\n"
          ]
        }
      ]
    },
    {
      "cell_type": "markdown",
      "metadata": {
        "id": "da7ad4dc"
      },
      "source": [
        "**Conclusão:**\n",
        "\n",
        "Com base nos resultados do teste t de uma amostra, onde o p-valor (0.96) foi maior que o nível de significância (alpha = 0.05), não há evidências estatisticamente significativas para rejeitar a hipótese nula.\n",
        "\n",
        "Isso significa que, com 96% de confiança, não podemos concluir que a média de idade das pessoas com problemas cardíacos é superior a 50 anos, com base nesta amostra específica. A média de idade observada na amostra não é significativamente diferente de 50 anos ao nível de significância de 5%."
      ]
    },
    {
      "cell_type": "markdown",
      "source": [
        "#####4.Queremos entender que tipo de amostra estamos lidando se dividirmos os conjuntos em 2, sendo um com pessoas que têm condições de saúde adicionais e o outro com pessoas saudáveis. Seria dependente ou independente?"
      ],
      "metadata": {
        "id": "3CoW_IMXaDka"
      }
    },
    {
      "cell_type": "code",
      "source": [
        "# Cria dataframe para pessoas com condições adicionais:\n",
        "condicoes_adicionais = pacientes[pacientes['Nome_Estado_Saude'] != 'Saudável']\n",
        "\n",
        "# Cria dataframe para pessoas saudáveis:\n",
        "pessoas_saudaveis = pacientes[pacientes['Nome_Estado_Saude'] == 'Saudável']\n",
        "\n",
        "# Exemplo de verificação de correlação entre a idade de pessoas com condições adicionais e pessoas saudáveis:\n",
        "\n",
        "# Calcula a correlação entre as idades dos dois grupos\n",
        "correlacao = condicoes_adicionais['Idade'].corr(pessoas_saudaveis['Idade'])\n",
        "\n",
        "# Se a correlação for baixa (próxima de 0), as amostras são independentes.\n",
        "\n",
        "# Outra maneira de ilustrar a independência é verificar se a média da idade de um grupo é influenciada pela média da idade do outro grupo.\n",
        "\n",
        "media_idade_condicoes = condicoes_adicionais['Idade'].mean()\n",
        "media_idade_saudaveis = pessoas_saudaveis['Idade'].mean()\n",
        "\n",
        "print(f\"Média da idade das pessoas com condições adicionais: {media_idade_condicoes:.2f}\")\n",
        "print(f\"Média da idade das pessoas saudáveis: {media_idade_saudaveis:.2f}\")"
      ],
      "metadata": {
        "colab": {
          "base_uri": "https://localhost:8080/"
        },
        "id": "1MCLzdeAaRBW",
        "outputId": "0ad0b88c-3dc3-4285-c698-21a348ed7572"
      },
      "execution_count": 173,
      "outputs": [
        {
          "output_type": "stream",
          "name": "stdout",
          "text": [
            "Média da idade das pessoas com condições adicionais: 49.83\n",
            "Média da idade das pessoas saudáveis: 49.68\n"
          ]
        }
      ]
    },
    {
      "cell_type": "markdown",
      "source": [
        "**Conclusão:**\n",
        "\n",
        "As amostras seriam independentes.  Pessoas com condições de saúde adicionais e pessoas saudáveis são grupos distintos.\n",
        "\n",
        "A presença de uma condição em um indivíduo não afeta a probabilidade de outro indivíduo ter ou não uma condição.\n",
        "\n",
        "Se a alteração da média da idade de um grupo não influenciar a média da idade do outro grupo, as amostras são independentes.\n",
        "\n",
        "No entanto, é importante notar que a independência das amostras não significa que não haja diferenças entre os dois grupos, ou que não existam outras\n",
        "variáveis que possam afetar os dados coletados."
      ],
      "metadata": {
        "id": "lz4e1iW8j4Ub"
      }
    },
    {
      "cell_type": "markdown",
      "source": [
        "#####5.Agora considere o um conjunto de pessoas aleatória que representam o index do dataframe, `índices = ([690, 894, 67, 201, 364, 19, 60, 319,588, 643, 855, 623, 530, 174, 105, 693, 6, 462, 973, 607, 811, 346, 354,966, 943, 372])`, podemos dizer que a pressão arterial média para pacientes com condições de saúde adicionais é igual à pressão arterial média para pacientes sem condições adicionais de saúde? Considere o nível de significância a 6%."
      ],
      "metadata": {
        "id": "pagOJy4_aTns"
      }
    },
    {
      "cell_type": "code",
      "source": [
        "'''\n",
        "'''\n",
        "# Índices da amostra\n",
        "indices = [690, 894, 67, 201, 364,  19,  60, 319, 588, 643, 855, 623, 530, 174,\n",
        "           105, 693,  6, 462, 973, 607, 811, 346, 354, 966, 943, 372]\n",
        "\n",
        "# Seleciona a amostra do dataframe\n",
        "df_amostra = pacientes.loc[indices].sort_index()\n",
        "\n",
        "# Filtra pela coluna Estado_Saude\n",
        "amostra_condicao_0 = df_amostra[df_amostra['Estado_Saude'] == 0]\n",
        "amostra_condicao_1 = df_amostra[df_amostra['Estado_Saude'] == 1]\n",
        "\n",
        "# Calcula média da pressão arterial\n",
        "media_pressao_0 = amostra_condicao_0['Pressao_Arterial'].mean()\n",
        "media_pressao_1 = amostra_condicao_1['Pressao_Arterial'].mean()\n",
        "\n",
        "# Aplica teste t para duas amostras independentes\n",
        "teste_t, p_valor = stat.ttest_ind(amostra_condicao_1['Pressao_Arterial'],\n",
        "                                  amostra_condicao_0['Pressao_Arterial'])\n",
        "\n",
        "# Nível de significância (alpha)\n",
        "alpha = 0.06\n",
        "\n",
        "# Compara o p-valor com alpha\n",
        "if p_valor < alpha:\n",
        "  conclusao = (\"Rejeitamos a hipótese nula.\\n\" +\n",
        "\t             \"Podemos concluir que há diferença significativa entre a média de pressão arterial para pacientes com condições de saúde adicionais e pacientes saudáveis.\\n\")\n",
        "else:\n",
        "  conclusao = (\"Não rejeitamos a hipótese nula.\\n\" +\n",
        "\t             \"Não há evidências suficientes para concluir que há diferença significativa entre a média de pressão arterial para pacientes com condições de saúde adicionais e pacientes saudáveis.\\n\")\n",
        "\n",
        "# Resultados\n",
        "print(f\"Média de pressão arterial para pacientes com condições de saúde adicionais: {round(media_pressao_1, 2)}\")\n",
        "print(f\"Média de pressão arterial para pacientes sem condições de saúde adicionais: {round(media_pressao_0, 2)}\")\n",
        "print(f\"\\nConclusão: {conclusao}\\np-valor: {round(p_valor, 2)}\")"
      ],
      "metadata": {
        "colab": {
          "base_uri": "https://localhost:8080/"
        },
        "id": "FMY2VGWYai7Y",
        "outputId": "a1e8ad08-805d-470e-f4f2-19b4c4afef43"
      },
      "execution_count": 174,
      "outputs": [
        {
          "output_type": "stream",
          "name": "stdout",
          "text": [
            "Média de pressão arterial para pacientes com condições de saúde adicionais: 153.2\n",
            "Média de pressão arterial para pacientes sem condições de saúde adicionais: 152.94\n",
            "\n",
            "Conclusão: Não rejeitamos a hipótese nula.\n",
            "Não há evidências suficientes para concluir que há diferença significativa entre a média de pressão arterial para pacientes com condições de saúde adicionais e pacientes saudáveis.\n",
            "\n",
            "p-valor: 0.94\n"
          ]
        }
      ]
    },
    {
      "cell_type": "markdown",
      "metadata": {
        "id": "95040200"
      },
      "source": [
        "**Conclusão:**\n",
        "\n",
        "Com base nos resultados do teste t para amostras independentes, onde o p-valor (0.94) foi maior que o nível de significância (alpha = 0.06), não há evidências estatisticamente significativas para rejeitar a hipótese nula.\n",
        "\n",
        "Isso significa que, com 94% de confiança, não podemos concluir que existe uma diferença significativa na pressão arterial média entre pacientes com condições de saúde adicionais e pacientes sem condições adicionais de saúde, com base nesta amostra específica. As médias de pressão arterial observadas nos dois grupos (aproximadamente 153.20 para pacientes com condições adicionais e 152.94 para pacientes sem condições adicionais) não são diferentes o suficiente para serem consideradas estatisticamente distintas ao nível de significância de 6%."
      ]
    },
    {
      "cell_type": "markdown",
      "source": [
        "#####6.Existe uma diferença significativa na pressão arterial média entre diferentes grupos étnicos nesta população? (Teste ANOVA, alpha é 5%)"
      ],
      "metadata": {
        "id": "S7e7jn4Xak0f"
      }
    },
    {
      "cell_type": "markdown",
      "source": [
        "a. Hipótese Nula (H0): A pressão arterial média é a mesma em todos os grupos étnicos."
      ],
      "metadata": {
        "id": "mCAT0Ajwaur-"
      }
    },
    {
      "cell_type": "code",
      "source": [
        "# Valores únicos para coluna Etnia\n",
        "valores_unicos = pacientes['Nome_Etnia'].unique()\n",
        "\n",
        "# Dividindo o conjunto de dados em diferentes grupos étnicos\n",
        "grupos_etnicos = [pacientes[pacientes['Nome_Etnia'] == etnia]['Pressao_Arterial'] for etnia in valores_unicos]\n",
        "\n",
        "# Calculando médias dos grupos étnicos\n",
        "medias_por_grupo_etnico = {nome_etnia: grupo.mean() for nome_etnia, grupo in zip(valores_unicos, grupos_etnicos)}\n",
        "\n",
        "# Aplicando teste ANOVA\n",
        "teste_anova, p_valor = stat.f_oneway(*grupos_etnicos)\n",
        "\n",
        "# Nível de significância (alpha)\n",
        "alpha = 0.05\n",
        "\n",
        "# Comparando o p-valor com alpha\n",
        "if p_valor < alpha:\n",
        "  conclusao = (\"Rejeitamos a hipótese nula.\\n\" +\n",
        "               \"Podemos concluir que existe uma diferença significativa na pressão arterial média entre pelo menos dois grupos étnicos desta população.\\n\")\n",
        "else:\n",
        "  conclusao = (\"Não rejeitamos a hipótese nula.\\n\" +\n",
        "               \"Não há evidências suficientes para concluir que exista uma diferença significativa na pressão arterial média entre os grupos étnicos nesta população.\\n\")\n",
        "\n",
        "# Resultados\n",
        "print(\"Pressão arterial média por grupo étnico:\")\n",
        "for nome_etnia, media in medias_por_grupo_etnico.items():\n",
        "  print(f\"- {nome_etnia.capitalize()}: {round(media, 2)}\")\n",
        "\n",
        "print(f\"\\nConclusão: {conclusao}\\np-valor: {round(p_valor, 2)}\")\n"
      ],
      "metadata": {
        "colab": {
          "base_uri": "https://localhost:8080/"
        },
        "id": "rEg-mwErasfi",
        "outputId": "e002c288-ac5f-4e33-ae83-4bac0d5ba9e5"
      },
      "execution_count": 175,
      "outputs": [
        {
          "output_type": "stream",
          "name": "stdout",
          "text": [
            "Pressão arterial média por grupo étnico:\n",
            "- Afro-americano: 150.73\n",
            "- Asiático: 150.33\n",
            "- Hispânico: 150.42\n",
            "- Caucasiano: 149.98\n",
            "\n",
            "Conclusão: Não rejeitamos a hipótese nula.\n",
            "Não há evidências suficientes para concluir que exista uma diferença significativa na pressão arterial média entre os grupos étnicos nesta população.\n",
            "\n",
            "p-valor: 0.87\n"
          ]
        }
      ]
    },
    {
      "cell_type": "markdown",
      "source": [
        "b. Hipótese Alternativa (H1): Há uma diferença significativa na\n",
        "pressão arterial média entre pelo menos dois grupos étnicos\n",
        "nesta população."
      ],
      "metadata": {
        "id": "vfW8_s2ha0qh"
      }
    },
    {
      "cell_type": "markdown",
      "source": [
        "*I. Hipótese Nula (H0): A idade dos pacientes é independente da pressão arterial.*\n",
        "\n",
        "*II. Hipótese Alternativa (H1): A idade dos pacientes está associada à sua pressão arterial.*"
      ],
      "metadata": {
        "id": "WIhEy7DUm7Dy"
      }
    },
    {
      "cell_type": "code",
      "source": [
        "# Separa os dados do dataframe pelas colunas Idade e Pressao_Arterial\n",
        "df_idade            = pacientes['Idade']\n",
        "df_pressao_arterial = pacientes['Pressao_Arterial']\n",
        "\n",
        "# Tabela de contingência\n",
        "tabela_contingencia = pd.crosstab(df_idade, df_pressao_arterial)\n",
        "\n",
        "# Aplica teste qui-quadrado\n",
        "chi2, p_valor, _, _ = stat.chi2_contingency(tabela_contingencia)\n",
        "\n",
        "# Nível de significância (alpha)\n",
        "alpha = 0.05\n",
        "\n",
        "# Compara o p-valor com alpha\n",
        "if p_valor < alpha:\n",
        "  conclusao = (\"Rejeitamos a hipótese nula.\\n\" +\n",
        "\t             \"Podemos concluir que a idade dos pacientes está associada à sua pressão arterial.\\n\")\n",
        "else:\n",
        "  conclusao = (\"Não rejeitamos a hipótese nula.\\n\" +\n",
        "\t             \"Não há evidências suficientes para concluir que a idade dos pacientes está associada à sua pressão arterial.\\n\")\n",
        "\n",
        "# Resultados\n",
        "print(f\"Conclusão: {conclusao}\\np-valor: {round(p_valor, 2)}\\nQui-quadrado: {chi2}\")"
      ],
      "metadata": {
        "colab": {
          "base_uri": "https://localhost:8080/"
        },
        "id": "zlF8uiKda45e",
        "outputId": "4a1bbdd7-aeff-4706-b392-adc0f575a6d7"
      },
      "execution_count": 176,
      "outputs": [
        {
          "output_type": "stream",
          "name": "stdout",
          "text": [
            "Conclusão: Não rejeitamos a hipótese nula.\n",
            "Não há evidências suficientes para concluir que a idade dos pacientes está associada à sua pressão arterial.\n",
            "\n",
            "p-valor: 0.44\n",
            "Qui-quadrado: 40000.0\n"
          ]
        }
      ]
    },
    {
      "cell_type": "markdown",
      "metadata": {
        "id": "666a47cb"
      },
      "source": [
        "**Conclusão:**\n",
        "\n",
        "Com base nos resultados do teste ANOVA, onde o p-valor (0.87) foi maior que o nível de significância (alpha = 0.05), não há evidências estatisticamente significativas para rejeitar a hipótese nula (H0).\n",
        "\n",
        "Isso significa que, com 87% de confiança, não podemos concluir que exista uma diferença significativa na pressão arterial média entre pelo menos dois grupos étnicos nesta população, com base nesta análise. As médias de pressão arterial observadas nos diferentes grupos étnicos (Afro-americano: 150.73, Asiático: 150.33, Hispânico: 150.42, Caucasiano: 149.98) não são diferentes o suficiente para serem consideradas estatisticamente distintas ao nível de significância de 5%.\n",
        "\n",
        "Portanto, não há suporte para a hipótese alternativa (H1) de que há uma diferença significativa na pressão arterial média entre pelo menos dois grupos étnicos nesta população."
      ]
    },
    {
      "cell_type": "markdown",
      "source": [
        "#####7.Lúcia é uma pesquisadora e tem o objetivo de entender a relação de gênero neste grupo de pacientes. Acredita-se que há uma relação entre o sexo e condições de saúde adicionais. (Teste qui-quadrado)"
      ],
      "metadata": {
        "id": "cLHJxcrIa6iR"
      }
    },
    {
      "cell_type": "markdown",
      "source": [
        "O teste qui-quadrado é usado  para determinar se existe uma associação estatisticamente significativa entre duas variáveis categóricas, ele também compara as frequências esperadas (as frequências que seriam esperadas se não houvesse associação entre as variáveis). Uma grande diferença entre as frequências observadas e esperadas leva a um valor de qui-quadrado alto e, potencialmente, a um p-valor baixo, sugerindo que a associação observada não é aleatória."
      ],
      "metadata": {
        "id": "CZxagxdbh92n"
      }
    },
    {
      "cell_type": "code",
      "source": [
        "# Separa os dados do dataframe pelas colunas Genero e Estado_Saude\n",
        "df_genero       = pacientes['Genero']\n",
        "df_estado_saude = pacientes['Estado_Saude']\n",
        "\n",
        "# Tabela de contingência\n",
        "tabela_contingencia = pd.crosstab(df_genero, df_estado_saude)\n",
        "\n",
        "# Aplica teste qui-quadrado\n",
        "chi2, p_valor, _, _ = stat.chi2_contingency(tabela_contingencia)\n",
        "\n",
        "# Nível de significância (alpha)\n",
        "alpha = 0.05\n",
        "\n",
        "# Compara o p-valor com alpha\n",
        "if p_valor < alpha:\n",
        "  conclusao = (\"Rejeitamos a hipótese nula.\\n\" +\n",
        "\t             \"Podemos concluir que existe uma relação significativa entre o gênero e as condições de saúde desta população.\\n\")\n",
        "else:\n",
        "  conclusao = (\"Não rejeitamos a hipótese nula.\\n\" +\n",
        "\t             \"Não há evidências suficientes para concluir que existe uma relação significativa entre o gênero e as condições de saúde desta população.\\n\")\n",
        "\n",
        "# Resultados\n",
        "print(f\"Conclusão: {conclusao}\\np-valor: {round(p_valor, 2)}\\nQui-quadrado: {chi2}\")\n"
      ],
      "metadata": {
        "colab": {
          "base_uri": "https://localhost:8080/"
        },
        "id": "n5kN3D-Un9KF",
        "outputId": "0bf3258c-2676-488c-e1f0-206f92b389f9"
      },
      "execution_count": 177,
      "outputs": [
        {
          "output_type": "stream",
          "name": "stdout",
          "text": [
            "Conclusão: Não rejeitamos a hipótese nula.\n",
            "Não há evidências suficientes para concluir que existe uma relação significativa entre o gênero e as condições de saúde desta população.\n",
            "\n",
            "p-valor: 1.0\n",
            "Qui-quadrado: 0.0\n"
          ]
        }
      ]
    },
    {
      "cell_type": "markdown",
      "metadata": {
        "id": "ca80fa09"
      },
      "source": [
        "**Conclusão:**\n",
        "\n",
        "Com base nos resultados do teste qui-quadrado, onde o p-valor (1.0) foi maior que o nível de significância (alpha = 0.05), não há evidências estatisticamente significativas para rejeitar a hipótese nula.\n",
        "\n",
        "Isso significa que, com 100% de confiança, não podemos concluir que existe uma relação significativa entre o gênero e as condições de saúde desta população, com base nesta análise. O valor do qui-quadrado (0.0) sugere que não há diferença observada entre as frequências esperadas e as frequências observadas na tabela de contingência, indicando que as variáveis Gênero e Estado de Saúde são independentes nesta população."
      ]
    },
    {
      "cell_type": "markdown",
      "source": [
        "#####8.Existe uma associação entre a idade dos pacientes e sua pressão arterial?"
      ],
      "metadata": {
        "id": "A0WxErErbFJX"
      }
    },
    {
      "cell_type": "markdown",
      "source": [
        "* Hipótese Nula (H0): se a pressão arterial é independente da idade.\n",
        "\n",
        "* Hipótese Alternativa (H1): a pressão arterial esta associada a idade."
      ],
      "metadata": {
        "id": "VpJtH7qNp3nh"
      }
    },
    {
      "cell_type": "code",
      "source": [
        "idades = pacientes['Idade']\n",
        "pressoes_arteriais = pacientes['Pressao_Arterial']\n",
        "\n",
        "faixas_etarias = [30, 40, 50, 60, 70, 80]\n",
        "intervalos_pressao = [100, 120, 140, 160, 180, 200]\n",
        "\n",
        "# Contar o número de pacientes em cada faixa etária e intervalo de pressão arterial\n",
        "contagem_idades = np.histogram(idades, bins=faixas_etarias)[0]\n",
        "contagem_pressao = np.histogram(pressoes_arteriais, bins=intervalos_pressao)[0]\n",
        "\n",
        "# Criar tabela de contingência\n",
        "tabela_contingencia = np.array([contagem_idades, contagem_pressao])\n",
        "\n",
        "# Realizar o teste qui-quadrado de independência\n",
        "statistic, p_value, dof, expected = chi2_contingency(tabela_contingencia)\n",
        "alpha = 0.05\n",
        "\n",
        "if p_value < alpha:\n",
        "    print(\"Rejeitamos a hipótese nula\")\n",
        "else:\n",
        "    print(\"Não rejeitamos a hipótese nula\")"
      ],
      "metadata": {
        "colab": {
          "base_uri": "https://localhost:8080/"
        },
        "id": "69RVwKZOqAfM",
        "outputId": "be2553d6-f270-4688-8283-de4caa2a9116"
      },
      "execution_count": 178,
      "outputs": [
        {
          "output_type": "stream",
          "name": "stdout",
          "text": [
            "Rejeitamos a hipótese nula\n"
          ]
        }
      ]
    },
    {
      "cell_type": "markdown",
      "metadata": {
        "id": "653119be"
      },
      "source": [
        "**Conclusão:**\n",
        "\n",
        "Com base nos resultados do teste qui-quadrado de independência, onde o p-valor (0.0) foi menor que o nível de significância (alpha = 0.05), rejeitamos a hipótese nula.\n",
        "\n",
        "Isso significa que há evidências estatisticamente significativas para concluir que existe uma associação entre a idade dos pacientes e sua pressão arterial nesta população. A pressão arterial não é independente da idade; elas estão relacionadas. O alto valor da estatística qui-quadrado (aproximadamente 524.21) e o p-valor muito baixo reforçam essa conclusão, indicando que a relação observada não é aleatória."
      ]
    },
    {
      "cell_type": "markdown",
      "source": [
        "#####9.Qual é o intervalo de confiança para a média da pressão arterial entre os pacientes com condições de saúde adicionais? (nível de confiança 95%)."
      ],
      "metadata": {
        "id": "omZ6gVUsbfGm"
      }
    },
    {
      "cell_type": "markdown",
      "source": [
        "O cálculo do intervalo de confiança envolve o uso do z-score (norm.ppf) associado ao nível de confiança desejado (95%). O z-score é derivado da distribuição normal padrão e é usado aqui porque estamos lidando com a média de uma amostra e queremos estimar o intervalo onde a verdadeira média da população provavelmente se encontra.\n",
        "\n",
        "Portanto, embora não seja um teste de hipótese tradicional, o cálculo do intervalo de confiança baseia-se em princípios estatísticos relacionados à distribuição normal e à estimativa de parâmetros populacionais a partir de dados amostrais."
      ],
      "metadata": {
        "id": "4KWwwbGXpPN3"
      }
    },
    {
      "cell_type": "code",
      "source": [
        "parcial = pacientes[['Nome_Estado_Saude', 'Pressao_Arterial']]\n",
        "\n",
        "pressoes_arteriais_condicoes = parcial[parcial['Nome_Estado_Saude'] != 'Saudável']['Pressao_Arterial']\n",
        "\n",
        "media_pressao_condicoes = np.mean(pressoes_arteriais_condicoes)\n",
        "desvio_padrao_pressao_condicoes = np.std(pressoes_arteriais_condicoes)\n",
        "\n",
        "n = len(pressoes_arteriais_condicoes)\n",
        "\n",
        "nivel_confianca = 0.95\n",
        "\n",
        "z = norm.ppf((1 + nivel_confianca)/2)\n",
        "\n",
        "#calcular o intervalo de confinça\n",
        "intervalo_confianca = z * (desvio_padrao_pressao_condicoes / np.sqrt(n))\n",
        "\n",
        "limite_inferior = media_pressao_condicoes - intervalo_confianca\n",
        "limite_superior = media_pressao_condicoes + intervalo_confianca\n",
        "\n",
        "print(f'limite inferior: {limite_inferior:.2f}')\n",
        "print(f'limite superior: {limite_superior:.2f}')"
      ],
      "metadata": {
        "colab": {
          "base_uri": "https://localhost:8080/"
        },
        "id": "2KRgU7mCbl3W",
        "outputId": "0cb28021-ade7-48cb-b229-12d6eb7144d5"
      },
      "execution_count": 179,
      "outputs": [
        {
          "output_type": "stream",
          "name": "stdout",
          "text": [
            "limite inferior: 149.22\n",
            "limite superior: 151.01\n"
          ]
        }
      ]
    },
    {
      "cell_type": "markdown",
      "metadata": {
        "id": "b4071b59"
      },
      "source": [
        "**Conclusão:**\n",
        "\n",
        "Com base nos cálculos realizados, o intervalo de confiança de 95% para a média da pressão arterial entre os pacientes com condições de saúde adicionais é aproximadamente de 149.22 a 151.01.\n",
        "\n",
        "Isso significa que, com 95% de confiança, podemos estimar que a verdadeira média da pressão arterial para todos os pacientes nesta população que possuem condições de saúde adicionais está dentro deste intervalo."
      ]
    },
    {
      "cell_type": "markdown",
      "source": [
        "#####10.A distribuição da pressão arterial na população segue uma distribuição normal?"
      ],
      "metadata": {
        "id": "ds89MKMrbm8q"
      }
    },
    {
      "cell_type": "markdown",
      "source": [
        "* Hipótese Nula (H0): A distribuição da pressão arterial na\n",
        "população segue uma distribuição normal.\n",
        "\n",
        "* Hipótese Alternativa (H1): A distribuição da pressão arterial na população não segue uma distribuição normal."
      ],
      "metadata": {
        "id": "m2o032Xnbxnu"
      }
    },
    {
      "cell_type": "markdown",
      "source": [
        "O teste de Kolmogorov-Smirnov (KS) foi utilizado para verificar se a distribuição da pressão arterial na população segue uma distribuição normal. Por ser tratar de um teste não paramétrico é usado para determinar se uma amostra de dados se ajusta a uma distribuição teórica específica, como a distribuição normal. O teste compara a função de distribuição acumulada (FDA) da amostra observada com a FDA da distribuição teórica (neste caso, a distribuição normal), se a diferença máxima entre as duas FDAs for grande, o teste KS indicará que a amostra não se ajusta à distribuição teórica, sendo adequado para testar a normalidade de variáveis contínuas.\n",
        "Embora existam outros testes de normalidade, como o teste de Shapiro-Wilk, o teste de Kolmogorov-Smirnov é uma opção válida e foi utilizado neste código para avaliar se a distribuição da pressão arterial se desvia significativamente de uma distribuição normal."
      ],
      "metadata": {
        "id": "pRGxB9CHmRxm"
      }
    },
    {
      "cell_type": "code",
      "source": [
        "pressao_arterial_populacao = pacientes['Pressao_Arterial']\n",
        "\n",
        "# Realizar o teste KS\n",
        "statistic, p_value = kstest(pressao_arterial_populacao, 'norm')\n",
        "print(\"Estatística do teste KS:\", statistic)\n",
        "print(\"Valor de p:\", p_value)\n",
        "\n",
        "alpha = 0.05\n",
        "if p_value < alpha:\n",
        "    print(\"Rejeitamos a hipótese nula\")\n",
        "else:\n",
        "    print(\"Não rejeitamos a hipótese nula\")"
      ],
      "metadata": {
        "colab": {
          "base_uri": "https://localhost:8080/"
        },
        "id": "njy9dsGUbunJ",
        "outputId": "f78c56ca-c65c-4f76-921d-cfa47d82d390"
      },
      "execution_count": 180,
      "outputs": [
        {
          "output_type": "stream",
          "name": "stdout",
          "text": [
            "Estatística do teste KS: 1.0\n",
            "Valor de p: 0.0\n",
            "Rejeitamos a hipótese nula\n"
          ]
        }
      ]
    },
    {
      "cell_type": "markdown",
      "metadata": {
        "id": "6d9f992f"
      },
      "source": [
        "**Conclusão:**\n",
        "\n",
        "Com base nos resultados do teste de Kolmogorov-Smirnov (KS), onde o p-valor (0.0) foi menor que o nível de significância (alpha = 0.05), rejeitamos a hipótese nula.\n",
        "\n",
        "Isso significa que há evidências estatisticamente significativas para concluir que a distribuição da pressão arterial na população não segue uma distribuição normal. A distribuição observada é significativamente diferente de uma distribuição normal ao nível de significância de 5%."
      ]
    }
  ]
}